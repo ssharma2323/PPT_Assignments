{
 "cells": [
  {
   "cell_type": "markdown",
   "id": "1d31236b",
   "metadata": {},
   "source": [
    "Q-1        "
   ]
  },
  {
   "cell_type": "code",
   "execution_count": null,
   "id": "30b66ca8",
   "metadata": {},
   "outputs": [],
   "source": [
    "def func(lst):\n",
    "    lst.sort()\n",
    "    t1=lst[-2:]\n",
    "    t2=lst[-4:-2]\n",
    "    print(t1,t2)\n",
    "    return (min(t1)+min(t2))"
   ]
  },
  {
   "cell_type": "code",
   "execution_count": 32,
   "id": "a6f88587",
   "metadata": {},
   "outputs": [
    {
     "name": "stdout",
     "output_type": "stream",
     "text": [
      "[3, 4] [1, 2]\n"
     ]
    },
    {
     "data": {
      "text/plain": [
       "4"
      ]
     },
     "execution_count": 32,
     "metadata": {},
     "output_type": "execute_result"
    }
   ],
   "source": [
    "func([1,4,3,2])"
   ]
  },
  {
   "cell_type": "markdown",
   "id": "4e07b1e9",
   "metadata": {},
   "source": [
    "Q-2)"
   ]
  },
  {
   "cell_type": "code",
   "execution_count": 48,
   "id": "70de6b21",
   "metadata": {},
   "outputs": [],
   "source": [
    "def func(cand):\n",
    "    n = len(cand)\n",
    "    tar = n // 2\n",
    "    final = []\n",
    "    ct = 0\n",
    "    for i in cand:\n",
    "        if i not in final:\n",
    "            final.append(i)\n",
    "            ct += 1\n",
    "            if ct >= tar:\n",
    "                break\n",
    "    \n",
    "    while ct < tar:\n",
    "        for j in cand:\n",
    "            final.append(j)\n",
    "            ct += 1\n",
    "            if ct >= tar:\n",
    "                break\n",
    "    \n",
    "    return final          "
   ]
  },
  {
   "cell_type": "code",
   "execution_count": 47,
   "id": "9e4bd994",
   "metadata": {},
   "outputs": [
    {
     "name": "stdout",
     "output_type": "stream",
     "text": [
      "3\n"
     ]
    },
    {
     "data": {
      "text/plain": [
       "[1, 2, 3]"
      ]
     },
     "execution_count": 47,
     "metadata": {},
     "output_type": "execute_result"
    }
   ],
   "source": [
    "func([1,1,2,2,3,3])"
   ]
  },
  {
   "cell_type": "markdown",
   "id": "f3bba34b",
   "metadata": {},
   "source": [
    "Q-3)"
   ]
  },
  {
   "cell_type": "code",
   "execution_count": 53,
   "id": "31449f6e",
   "metadata": {},
   "outputs": [],
   "source": [
    "def filtered_list(lst,a):\n",
    "    lst_1=[]\n",
    "    lst_1.append(a)\n",
    "    lst_1.append(a+1)\n",
    "    for i in lst:\n",
    "        if i in range(a,a+2):\n",
    "            lst_1.append(i)\n",
    "    return lst_1    \n",
    "        \n",
    "def func(lst):\n",
    "    lst_1=[]\n",
    "    for i in lst:\n",
    "        if i+1 in lst:\n",
    "            lst_1.append(filtered_list(lst,i))\n",
    "    n=0\n",
    "    for i in lst_1:\n",
    "        if len(i)>n:\n",
    "            n=len(i)\n",
    "    return n             \n",
    "    "
   ]
  },
  {
   "cell_type": "code",
   "execution_count": 61,
   "id": "51cb80fd",
   "metadata": {},
   "outputs": [
    {
     "data": {
      "text/plain": [
       "7"
      ]
     },
     "execution_count": 61,
     "metadata": {},
     "output_type": "execute_result"
    }
   ],
   "source": [
    "func([1,3,2,2,5,2,3,7])"
   ]
  },
  {
   "cell_type": "markdown",
   "id": "1073c55f",
   "metadata": {},
   "source": [
    "Q-4)"
   ]
  },
  {
   "cell_type": "code",
   "execution_count": 71,
   "id": "74a83745",
   "metadata": {},
   "outputs": [],
   "source": [
    "def func_2(lst,n):\n",
    "    count=0\n",
    "    for i in range(1,len(lst)):\n",
    "        if lst[i]==0 and lst[i-1] ==0 and lst[i+1] ==0:\n",
    "            count=count+1\n",
    "    return count>=n \n",
    "        \n",
    "            "
   ]
  },
  {
   "cell_type": "code",
   "execution_count": 75,
   "id": "00bcc8a2",
   "metadata": {},
   "outputs": [
    {
     "data": {
      "text/plain": [
       "True"
      ]
     },
     "execution_count": 75,
     "metadata": {},
     "output_type": "execute_result"
    }
   ],
   "source": [
    "func_2([1,0,0,0,1,0,0,0,1],2)"
   ]
  },
  {
   "cell_type": "markdown",
   "id": "2dcc8903",
   "metadata": {},
   "source": [
    "Q-5)"
   ]
  },
  {
   "cell_type": "code",
   "execution_count": 81,
   "id": "af83c36a",
   "metadata": {},
   "outputs": [],
   "source": [
    "def max_product(lst):\n",
    "    lst.sort()\n",
    "    new=lst[-3:]\n",
    "    print('three numners are:',new)\n",
    "    \n",
    "    return f'max product is {new[0]*new[1]*new[2]}'    "
   ]
  },
  {
   "cell_type": "code",
   "execution_count": 82,
   "id": "88deae11",
   "metadata": {},
   "outputs": [
    {
     "name": "stdout",
     "output_type": "stream",
     "text": [
      "three numners are: [10, 71, 80]\n"
     ]
    },
    {
     "data": {
      "text/plain": [
       "'max product is 56800'"
      ]
     },
     "execution_count": 82,
     "metadata": {},
     "output_type": "execute_result"
    }
   ],
   "source": [
    "max_product([1,2,3,1,9,0,4,6,2,10,80,71])"
   ]
  },
  {
   "cell_type": "markdown",
   "id": "b9621458",
   "metadata": {},
   "source": [
    "Q-6)"
   ]
  },
  {
   "cell_type": "code",
   "execution_count": 94,
   "id": "1ddb7433",
   "metadata": {},
   "outputs": [],
   "source": [
    "def func_3(nums,target):\n",
    "    i=0\n",
    "    j=len(nums)-1\n",
    "    mid=i+(j-i)//2\n",
    "    while i<=j:\n",
    "        mid=i+(j-i)//2\n",
    "        if target==nums[mid]:\n",
    "            return f'{target} is at index {mid}'\n",
    "        elif target<nums[mid]:\n",
    "            j=mid-1\n",
    "        else:\n",
    "            i=mid+1        \n",
    "    return f'{target} is not present in the list'           \n",
    "    "
   ]
  },
  {
   "cell_type": "code",
   "execution_count": 95,
   "id": "f210eb18",
   "metadata": {},
   "outputs": [
    {
     "data": {
      "text/plain": [
       "'9 is at index 4'"
      ]
     },
     "execution_count": 95,
     "metadata": {},
     "output_type": "execute_result"
    }
   ],
   "source": [
    "func_3([1,6,7,3,9],9)"
   ]
  },
  {
   "cell_type": "markdown",
   "id": "962658cf",
   "metadata": {},
   "source": [
    "Q-7)"
   ]
  },
  {
   "cell_type": "code",
   "execution_count": 103,
   "id": "bdaa897e",
   "metadata": {},
   "outputs": [],
   "source": [
    "def func_4(arr):\n",
    "    test=[]\n",
    "    for i in range(1,len(arr)):\n",
    "        if arr[i]>arr[i-1]:\n",
    "            test.append('i')\n",
    "        else:\n",
    "            test.append('d')\n",
    "    if 'i' in test and 'd' in test:\n",
    "        return 'non monotonus'\n",
    "    else:\n",
    "        return 'monotonus'\n",
    "            "
   ]
  },
  {
   "cell_type": "code",
   "execution_count": 102,
   "id": "f197d8dd",
   "metadata": {},
   "outputs": [
    {
     "data": {
      "text/plain": [
       "'non monotonus'"
      ]
     },
     "execution_count": 102,
     "metadata": {},
     "output_type": "execute_result"
    }
   ],
   "source": [
    "func_4([1,2,3,4,2,1])"
   ]
  },
  {
   "cell_type": "markdown",
   "id": "439cc678",
   "metadata": {},
   "source": [
    "Q-8)"
   ]
  },
  {
   "cell_type": "code",
   "execution_count": 108,
   "id": "65908937",
   "metadata": {},
   "outputs": [],
   "source": [
    "def minimum_score(nums, k):\n",
    "    nums.sort()\n",
    "    min_score = float('inf')\n",
    "\n",
    "    for x in range(-k, k + 1):\n",
    "        modified_nums = [num + x for num in nums]\n",
    "        score = max(modified_nums) - min(modified_nums)\n",
    "        min_score = min(min_score, score)\n",
    "\n",
    "    return min_score"
   ]
  },
  {
   "cell_type": "code",
   "execution_count": 109,
   "id": "0e4faaa5",
   "metadata": {},
   "outputs": [
    {
     "data": {
      "text/plain": [
       "3"
      ]
     },
     "execution_count": 109,
     "metadata": {},
     "output_type": "execute_result"
    }
   ],
   "source": [
    "minimum_score([1,2,3,4,2,1], 4) "
   ]
  }
 ],
 "metadata": {
  "kernelspec": {
   "display_name": "Python 3 (ipykernel)",
   "language": "python",
   "name": "python3"
  },
  "language_info": {
   "codemirror_mode": {
    "name": "ipython",
    "version": 3
   },
   "file_extension": ".py",
   "mimetype": "text/x-python",
   "name": "python",
   "nbconvert_exporter": "python",
   "pygments_lexer": "ipython3",
   "version": "3.10.9"
  }
 },
 "nbformat": 4,
 "nbformat_minor": 5
}
