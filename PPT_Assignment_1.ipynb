{
 "cells": [
  {
   "cell_type": "markdown",
   "id": "f8fbb30f",
   "metadata": {},
   "source": [
    "Q-1)"
   ]
  },
  {
   "cell_type": "code",
   "execution_count": 3,
   "id": "89a70c53",
   "metadata": {},
   "outputs": [],
   "source": [
    "def num_2(nums,target:int):\n",
    "        nums.sort()\n",
    "        lst=[]\n",
    "        li=0\n",
    "        ri=len(nums)-1\n",
    "\n",
    "        while li<ri:\n",
    "            if nums[li]+nums[ri]==target:\n",
    "                lst.append(li)\n",
    "                lst.append(ri)\n",
    "                return lst\n",
    "\n",
    "            elif nums[li]+nums[ri]<target:\n",
    "                li=li+1\n",
    "                print(li)\n",
    "                \n",
    "            else:\n",
    "                ri=ri-1\n",
    "\n",
    "        return []  "
   ]
  },
  {
   "cell_type": "code",
   "execution_count": 4,
   "id": "47c402e9",
   "metadata": {},
   "outputs": [
    {
     "data": {
      "text/plain": [
       "[0, 1]"
      ]
     },
     "execution_count": 4,
     "metadata": {},
     "output_type": "execute_result"
    }
   ],
   "source": [
    "num_2([1,4],5)"
   ]
  },
  {
   "cell_type": "markdown",
   "id": "742779e6",
   "metadata": {},
   "source": [
    "Q-2)"
   ]
  },
  {
   "cell_type": "code",
   "execution_count": 5,
   "id": "32de04b5",
   "metadata": {},
   "outputs": [],
   "source": [
    "class solution:\n",
    "    def func(self,nums,val):\n",
    "        nums_match=[]\n",
    "        num_not_natch=[]\n",
    "        for i in nums:\n",
    "            if i==val:\n",
    "                nums_match.append(i)\n",
    "            else:\n",
    "                num_not_natch.append(i)\n",
    "                \n",
    "        num_not_natch.extend(nums_match)\n",
    "        return num_not_natch\n",
    "                \n",
    "    \n",
    "        "
   ]
  },
  {
   "cell_type": "code",
   "execution_count": 6,
   "id": "81ac10b0",
   "metadata": {},
   "outputs": [
    {
     "data": {
      "text/plain": [
       "[2, 2, 6, 7, 6, 6, 3, 3]"
      ]
     },
     "execution_count": 6,
     "metadata": {},
     "output_type": "execute_result"
    }
   ],
   "source": [
    "solution().func([3,2,2,3,6,7,6,6],3)"
   ]
  },
  {
   "cell_type": "markdown",
   "id": "0cd91ce4",
   "metadata": {},
   "source": [
    "Q-3) Given a sorted array of distinct integers and a target value return the index if the target is found. If not, return the index where it would be if it were inserted in order.. You must write algorithm with O(log n) runtime complexity"
   ]
  },
  {
   "cell_type": "code",
   "execution_count": 13,
   "id": "dbc2a4fd",
   "metadata": {},
   "outputs": [],
   "source": [
    "def func(nums, target):\n",
    "    le = 0\n",
    "    ri = len(nums) - 1\n",
    "    \n",
    "    while le <= ri:\n",
    "        mid = (le + ri) // 2\n",
    "        \n",
    "        if nums[mid] == target:\n",
    "            return mid\n",
    "        elif nums[mid] < target:\n",
    "            le = mid + 1\n",
    "        else:\n",
    "            ri = mid - 1\n",
    "    \n",
    "    return le"
   ]
  },
  {
   "cell_type": "code",
   "execution_count": 14,
   "id": "3eb5b525",
   "metadata": {},
   "outputs": [
    {
     "data": {
      "text/plain": [
       "2"
      ]
     },
     "execution_count": 14,
     "metadata": {},
     "output_type": "execute_result"
    }
   ],
   "source": [
    "func([1,5,7,9,10,11,16],6)\n",
    "    "
   ]
  },
  {
   "cell_type": "markdown",
   "id": "eb0b1c32",
   "metadata": {},
   "source": [
    "Q-4)You are given a large integer represented as an integer array digits, where each digits[i] is the ith digit of the integer. The digits are ordered from most significant to least significant in left to right order. The large integer does not contain any leading 0's. Increment the large integer by one and return the resulting array of digits."
   ]
  },
  {
   "cell_type": "code",
   "execution_count": 22,
   "id": "62e9b3ab",
   "metadata": {},
   "outputs": [],
   "source": [
    "def func(digits):\n",
    "    if len(digits)>0:\n",
    "        for i in range(len(digits)):\n",
    "            pr=len(digits)-(i+1)\n",
    "            digits[i]=digits[i]*(10**pr)\n",
    "    else:\n",
    "        return 'Blank list'\n",
    "        \n",
    "    new_num=sum(digits)+1\n",
    "    new_num=str(new_num)\n",
    "    new_list=[]\n",
    "    for i in new_num:\n",
    "        new_list.append(int(i))\n",
    "    return new_list    \n",
    "    "
   ]
  },
  {
   "cell_type": "code",
   "execution_count": 24,
   "id": "da0f68e7",
   "metadata": {},
   "outputs": [
    {
     "data": {
      "text/plain": [
       "[7, 9, 0]"
      ]
     },
     "execution_count": 24,
     "metadata": {},
     "output_type": "execute_result"
    }
   ],
   "source": [
    "func([7,8,9])"
   ]
  },
  {
   "cell_type": "markdown",
   "id": "b9758d7b",
   "metadata": {},
   "source": [
    "Q-5)You are given 2 integer arrays nums1 and nums2, sorted in non-decresing order and two integers m and n, represnting the number of elemnts in nums1 and nums2 respectively. Merge nums1 and nums2 into a single array sorted in non-decresing order. \n",
    "\n",
    "The final sorted arry shouldn't be resturned by the function, but instead be sorted inside the array nums1. To accomodate this, nums1 has a length of m+n, where the first m elemnts denote the elemnts that should be merged and the last n elemnts are set to 0 and should be ignored. Nums2 has a length of n"
   ]
  },
  {
   "cell_type": "code",
   "execution_count": 44,
   "id": "3cfa967d",
   "metadata": {},
   "outputs": [],
   "source": [
    "def func(num1,m,num2,n):\n",
    "    \n",
    "    final=[]\n",
    "    i=0\n",
    "    j=0\n",
    "    while i<len(num1)+1 and j<n:\n",
    "        if num1[i]<num2[j]:\n",
    "            if num1[i]!=0:\n",
    "                final.append(num1[i])\n",
    "                i=i+1\n",
    "            else:\n",
    "                final.append(num2[j])\n",
    "                j=j+1\n",
    "        elif num1[i]==num2[j]:\n",
    "            print('cond2')\n",
    "            final.append(num1[i])\n",
    "            final.append(num2[j])\n",
    "            i=i+1\n",
    "            j=j+1\n",
    "        elif num1[i]>num2[j]:\n",
    "            final.append(num2[j])\n",
    "            j=j+1\n",
    "        else:\n",
    "            pass\n",
    "    return final        \n",
    "                \n",
    "                    "
   ]
  },
  {
   "cell_type": "code",
   "execution_count": 45,
   "id": "4142d020",
   "metadata": {},
   "outputs": [
    {
     "name": "stdout",
     "output_type": "stream",
     "text": [
      "cond2\n"
     ]
    },
    {
     "data": {
      "text/plain": [
       "[1, 2, 2, 3, 5, 6]"
      ]
     },
     "execution_count": 45,
     "metadata": {},
     "output_type": "execute_result"
    }
   ],
   "source": [
    "func([1,2,3,0,0,0],3,[2,5,6],3)"
   ]
  },
  {
   "cell_type": "markdown",
   "id": "0e8ed03e",
   "metadata": {},
   "source": [
    "Q-6) Given an integer array nums, return true if any value appears at least twice in the array, and return fasle if every element is distinct"
   ]
  },
  {
   "cell_type": "code",
   "execution_count": 29,
   "id": "5b4e5057",
   "metadata": {},
   "outputs": [],
   "source": [
    "def func1(nums):\n",
    "    return len(set(nums))!=len(nums)\n",
    "            \n",
    "            "
   ]
  },
  {
   "cell_type": "code",
   "execution_count": 30,
   "id": "1de317f0",
   "metadata": {},
   "outputs": [
    {
     "data": {
      "text/plain": [
       "False"
      ]
     },
     "execution_count": 30,
     "metadata": {},
     "output_type": "execute_result"
    }
   ],
   "source": [
    "func1([3,5,2,7])"
   ]
  },
  {
   "cell_type": "markdown",
   "id": "c77c4c91",
   "metadata": {},
   "source": [
    "Q-7)Given an integer array nums, move all 0's to the end of it ehile maintaining the relative order of the non-zero elements. Note that you must do this in place without making a copy of the array"
   ]
  },
  {
   "cell_type": "code",
   "execution_count": 31,
   "id": "78fa3ee1",
   "metadata": {},
   "outputs": [],
   "source": [
    "def func_2(nums):\n",
    "    for i in range(len(nums)):\n",
    "        if nums[i]==0:\n",
    "            nums.pop(i)\n",
    "            nums.append(0)\n",
    "    return nums        \n",
    "            \n",
    "    "
   ]
  },
  {
   "cell_type": "code",
   "execution_count": 32,
   "id": "2b357f56",
   "metadata": {},
   "outputs": [
    {
     "data": {
      "text/plain": [
       "[5, 6, 8, 9, 10, 0]"
      ]
     },
     "execution_count": 32,
     "metadata": {},
     "output_type": "execute_result"
    }
   ],
   "source": [
    "func_2([5,0,6,8,9,10])"
   ]
  },
  {
   "cell_type": "markdown",
   "id": "1bb45256",
   "metadata": {},
   "source": [
    "Q-8) You have a set of integers, which originally comtains all the numbers from 1 to n. Unfortunately, due to some error, one of the numbers in s got duplicated to another number in the set, which results in repetition of one number and loss of another number.  \n",
    "\n",
    "You are given an integer array nums represnting the data status of this set after the errror.\n",
    "\n",
    "\n",
    "Find the number that occurs twice and the number that is missing and return them in the form of an array."
   ]
  },
  {
   "cell_type": "code",
   "execution_count": 33,
   "id": "891567d0",
   "metadata": {},
   "outputs": [],
   "source": [
    "def func_3(arr):\n",
    "    lst=[]\n",
    "    lst_1=[]\n",
    "    for i in range(len(arr)):\n",
    "        if arr[i] in lst:\n",
    "            lst_1.append(arr[i])\n",
    "            lst_1.append(arr[i]+1)\n",
    "            return lst_1\n",
    "        lst.append(arr[i])\n",
    "    return 'no duplicate'    \n",
    "            "
   ]
  },
  {
   "cell_type": "code",
   "execution_count": 34,
   "id": "6b345e97",
   "metadata": {},
   "outputs": [
    {
     "data": {
      "text/plain": [
       "[7, 8]"
      ]
     },
     "execution_count": 34,
     "metadata": {},
     "output_type": "execute_result"
    }
   ],
   "source": [
    "func_3([5,6,7,7,9,10])"
   ]
  },
  {
   "cell_type": "code",
   "execution_count": 46,
   "id": "8150e0bc",
   "metadata": {},
   "outputs": [
    {
     "data": {
      "text/plain": [
       "'C:\\\\Users\\\\A146363'"
      ]
     },
     "execution_count": 46,
     "metadata": {},
     "output_type": "execute_result"
    }
   ],
   "source": [
    "pwd"
   ]
  },
  {
   "cell_type": "code",
   "execution_count": null,
   "id": "1121c284",
   "metadata": {},
   "outputs": [],
   "source": []
  },
  {
   "cell_type": "code",
   "execution_count": null,
   "id": "fa5f070f",
   "metadata": {},
   "outputs": [],
   "source": []
  },
  {
   "cell_type": "code",
   "execution_count": null,
   "id": "2cbfa436",
   "metadata": {},
   "outputs": [],
   "source": []
  },
  {
   "cell_type": "code",
   "execution_count": null,
   "id": "0a592f9f",
   "metadata": {},
   "outputs": [],
   "source": []
  }
 ],
 "metadata": {
  "kernelspec": {
   "display_name": "Python 3 (ipykernel)",
   "language": "python",
   "name": "python3"
  },
  "language_info": {
   "codemirror_mode": {
    "name": "ipython",
    "version": 3
   },
   "file_extension": ".py",
   "mimetype": "text/x-python",
   "name": "python",
   "nbconvert_exporter": "python",
   "pygments_lexer": "ipython3",
   "version": "3.10.9"
  }
 },
 "nbformat": 4,
 "nbformat_minor": 5
}
