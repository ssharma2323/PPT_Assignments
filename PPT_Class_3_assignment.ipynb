{
 "cells": [
  {
   "cell_type": "markdown",
   "id": "046d2c87",
   "metadata": {},
   "source": [
    "Q-1)"
   ]
  },
  {
   "cell_type": "code",
   "execution_count": 44,
   "id": "be208a0b",
   "metadata": {},
   "outputs": [],
   "source": [
    "def func(nums, target):\n",
    "    nums.sort()\n",
    "    closest_sum = float('inf')\n",
    "    result_nums = []\n",
    "    \n",
    "    for i in range(len(nums) - 2):\n",
    "        left = i + 1\n",
    "        right = len(nums) - 1\n",
    "        \n",
    "        while left < right:\n",
    "            current_sum = nums[i] + nums[left] + nums[right]\n",
    "            \n",
    "            if current_sum == target:\n",
    "                return [nums[i], nums[left], nums[right]]  \n",
    "            \n",
    "            if abs(current_sum - target) < abs(closest_sum - target):\n",
    "                closest_sum = current_sum \n",
    "                result_nums = [nums[i], nums[left], nums[right]] \n",
    "            \n",
    "            if current_sum < target:\n",
    "                left += 1  \n",
    "            else:\n",
    "                right -= 1  \n",
    "    \n",
    "    return result_nums     "
   ]
  },
  {
   "cell_type": "code",
   "execution_count": 45,
   "id": "852ee4f0",
   "metadata": {},
   "outputs": [
    {
     "data": {
      "text/plain": [
       "[1, 2, 3]"
      ]
     },
     "execution_count": 45,
     "metadata": {},
     "output_type": "execute_result"
    }
   ],
   "source": [
    "func([1,2,3,1,7,9,5], 6)"
   ]
  },
  {
   "cell_type": "markdown",
   "id": "e4d1cd5d",
   "metadata": {},
   "source": [
    "Q-8)"
   ]
  },
  {
   "cell_type": "code",
   "execution_count": 7,
   "id": "19c88f95",
   "metadata": {},
   "outputs": [],
   "source": [
    "def check(meeting):\n",
    "        meeting.sort(key=lambda x :x[0])\n",
    "        for i in range(len(meeting)):\n",
    "            if meeting[i][0]<meeting[i-1][1] and  meeting[i][0]>=meeting[i-1][0]:\n",
    "                return \"couldn't attend all meeting\" \n",
    "        return \"can attend all meeting\"\n",
    "                \n",
    "     \n",
    "            \n",
    "    "
   ]
  },
  {
   "cell_type": "code",
   "execution_count": 9,
   "id": "266dc1ea",
   "metadata": {},
   "outputs": [
    {
     "data": {
      "text/plain": [
       "\"couldn't attend all meeting\""
      ]
     },
     "execution_count": 9,
     "metadata": {},
     "output_type": "execute_result"
    }
   ],
   "source": [
    "check([[2,5],[5,7],[7,9],[9,11],[3,5]])"
   ]
  },
  {
   "cell_type": "markdown",
   "id": "96346d85",
   "metadata": {},
   "source": [
    "Q-7)"
   ]
  },
  {
   "cell_type": "code",
   "execution_count": 46,
   "id": "d9904a5c",
   "metadata": {},
   "outputs": [],
   "source": [
    "def func(nums,lower,upper):\n",
    "    result=[]\n",
    "    if min(nums)>lower:\n",
    "        lst1=[lower,min(nums)-1]\n",
    "        result.append(lst1)\n",
    "    if max(nums)<upper:\n",
    "        lst2=[max(nums)+1,upper]\n",
    "        result.append(lst2)\n",
    "\n",
    "    for i in range(len(nums)):\n",
    "        if nums[i]-nums[i-1]>1:\n",
    "            lst3=[nums[i-1]+1,nums[i]-1]\n",
    "            result.append(lst3)\n",
    "    return result        \n",
    "       \n",
    "          "
   ]
  },
  {
   "cell_type": "code",
   "execution_count": 47,
   "id": "d87d5edb",
   "metadata": {},
   "outputs": [
    {
     "data": {
      "text/plain": [
       "[[76, 99], [2, 2], [4, 49], [51, 74]]"
      ]
     },
     "execution_count": 47,
     "metadata": {},
     "output_type": "execute_result"
    }
   ],
   "source": [
    "func([0,1,3,50,75],0,99)"
   ]
  },
  {
   "cell_type": "markdown",
   "id": "34e2dcc4",
   "metadata": {},
   "source": [
    "Q-6)"
   ]
  },
  {
   "cell_type": "code",
   "execution_count": 7,
   "id": "de49d791",
   "metadata": {},
   "outputs": [],
   "source": [
    "from collections import Counter\n",
    "\n",
    "def func(nums):\n",
    "    counts=Counter(nums)\n",
    "    result=[]\n",
    "    for item, count in counts.items():\n",
    "        if count == 1:\n",
    "            result.append(item)\n",
    "    return result            "
   ]
  },
  {
   "cell_type": "code",
   "execution_count": 8,
   "id": "f4470100",
   "metadata": {},
   "outputs": [
    {
     "data": {
      "text/plain": [
       "[1]"
      ]
     },
     "execution_count": 8,
     "metadata": {},
     "output_type": "execute_result"
    }
   ],
   "source": [
    "func([0,0,1,3,3,50,50,75,75])"
   ]
  },
  {
   "cell_type": "markdown",
   "id": "25156cd2",
   "metadata": {},
   "source": [
    "Q-5)"
   ]
  },
  {
   "cell_type": "code",
   "execution_count": 10,
   "id": "219f1315",
   "metadata": {},
   "outputs": [],
   "source": [
    "def func(digits):\n",
    "    if len(digits)>0:\n",
    "        for i in range(len(digits)):\n",
    "            pr=len(digits)-(i+1)\n",
    "            digits[i]=digits[i]*(10**pr)\n",
    "    else:\n",
    "        return 'Blank list'\n",
    "        \n",
    "    new_num=sum(digits)+1\n",
    "    new_num=str(new_num)\n",
    "    new_list=[]\n",
    "    for i in new_num:\n",
    "        new_list.append(int(i))\n",
    "    return new_list    \n",
    "    "
   ]
  },
  {
   "cell_type": "code",
   "execution_count": 11,
   "id": "c449d9d5",
   "metadata": {},
   "outputs": [
    {
     "data": {
      "text/plain": [
       "[1, 2, 4]"
      ]
     },
     "execution_count": 11,
     "metadata": {},
     "output_type": "execute_result"
    }
   ],
   "source": [
    "func([1,2,3])"
   ]
  },
  {
   "cell_type": "markdown",
   "id": "9835a894",
   "metadata": {},
   "source": [
    "Q-4)"
   ]
  },
  {
   "cell_type": "code",
   "execution_count": 19,
   "id": "6653a38e",
   "metadata": {},
   "outputs": [],
   "source": [
    "def func(nums, target):\n",
    "    le = 0\n",
    "    ri = len(nums)\n",
    "    \n",
    "    while le <= ri:\n",
    "        mid = (le + ri) // 2\n",
    "        \n",
    "        if nums[mid] == target:\n",
    "            return mid\n",
    "        elif nums[mid] < target:\n",
    "            le = mid + 1\n",
    "        else:\n",
    "            ri = mid - 1\n",
    "    \n",
    "    return le"
   ]
  },
  {
   "cell_type": "code",
   "execution_count": 20,
   "id": "c37f3035",
   "metadata": {},
   "outputs": [
    {
     "data": {
      "text/plain": [
       "2"
      ]
     },
     "execution_count": 20,
     "metadata": {},
     "output_type": "execute_result"
    }
   ],
   "source": [
    "func([1,5,7,9,10,11,16],6)"
   ]
  },
  {
   "cell_type": "markdown",
   "id": "af4e7cf5",
   "metadata": {},
   "source": [
    "Q-3)"
   ]
  },
  {
   "cell_type": "code",
   "execution_count": 41,
   "id": "4f0666db",
   "metadata": {},
   "outputs": [],
   "source": [
    "def reverse_range(lst, start_idx):\n",
    "    lst[start_idx:] = lst[start_idx:][::-1]\n",
    "    return lst\n",
    "\n",
    "def func(nums):\n",
    "    for i in range(1,len(nums)):\n",
    "        if nums[i]>nums[i-1]:\n",
    "            nums[i],nums[i-1]=nums[i-1],nums[i]\n",
    "            return reverse_range(nums, i)\n",
    "            \n",
    "            \n",
    "            "
   ]
  },
  {
   "cell_type": "code",
   "execution_count": 42,
   "id": "a841ae95",
   "metadata": {},
   "outputs": [
    {
     "data": {
      "text/plain": [
       "[7, 8, 3, 5]"
      ]
     },
     "execution_count": 42,
     "metadata": {},
     "output_type": "execute_result"
    }
   ],
   "source": [
    "func([7,5,8,3])"
   ]
  },
  {
   "cell_type": "markdown",
   "id": "19d1dddb",
   "metadata": {},
   "source": [
    "Q-2)"
   ]
  },
  {
   "cell_type": "code",
   "execution_count": 48,
   "id": "79e03dfa",
   "metadata": {},
   "outputs": [],
   "source": [
    "def fourSum(nums, target):\n",
    "    nums.sort()  \n",
    "\n",
    "    result = []\n",
    "    n = len(nums)\n",
    "\n",
    "    for a in range(n - 3):\n",
    "        if a > 0 and nums[a] == nums[a - 1]:\n",
    "            continue  \n",
    "\n",
    "        for b in range(a + 1, n - 2):\n",
    "            if b > a + 1 and nums[b] == nums[b - 1]:\n",
    "                continue  \n",
    "\n",
    "            left = b + 1\n",
    "            right = n - 1\n",
    "\n",
    "            while left < right:\n",
    "                current_sum = nums[a] + nums[b] + nums[left] + nums[right]\n",
    "\n",
    "                if current_sum == target:\n",
    "                    result.append([nums[a], nums[b], nums[left], nums[right]])\n",
    "\n",
    "                    \n",
    "                    while left < right and nums[left] == nums[left + 1]:\n",
    "                        left += 1\n",
    "                    while left < right and nums[right] == nums[right - 1]:\n",
    "                        right -= 1\n",
    "\n",
    "                    left += 1\n",
    "                    right -= 1\n",
    "                elif current_sum < target:\n",
    "                    left += 1\n",
    "                else:\n",
    "                    right -= 1\n",
    "\n",
    "    return result\n",
    " \n",
    "        "
   ]
  },
  {
   "cell_type": "code",
   "execution_count": 49,
   "id": "e9fa625e",
   "metadata": {},
   "outputs": [
    {
     "data": {
      "text/plain": [
       "[[-2, -1, 1, 2], [-2, 0, 0, 2], [-1, 0, 0, 1]]"
      ]
     },
     "execution_count": 49,
     "metadata": {},
     "output_type": "execute_result"
    }
   ],
   "source": [
    "fourSum([1,0,-1,0,-2,2],0 )"
   ]
  },
  {
   "cell_type": "code",
   "execution_count": null,
   "id": "25bec988",
   "metadata": {},
   "outputs": [],
   "source": []
  }
 ],
 "metadata": {
  "kernelspec": {
   "display_name": "Python 3 (ipykernel)",
   "language": "python",
   "name": "python3"
  },
  "language_info": {
   "codemirror_mode": {
    "name": "ipython",
    "version": 3
   },
   "file_extension": ".py",
   "mimetype": "text/x-python",
   "name": "python",
   "nbconvert_exporter": "python",
   "pygments_lexer": "ipython3",
   "version": "3.10.9"
  }
 },
 "nbformat": 4,
 "nbformat_minor": 5
}
