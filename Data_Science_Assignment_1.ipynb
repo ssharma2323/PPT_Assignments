{
 "cells": [
  {
   "cell_type": "markdown",
   "id": "eeb02d99",
   "metadata": {},
   "source": [
    "Q-1) Write a python program to reverse a string"
   ]
  },
  {
   "cell_type": "code",
   "execution_count": 2,
   "id": "09a1fa11",
   "metadata": {},
   "outputs": [],
   "source": [
    "def reverse_string(string):\n",
    "    string=string[::-1]\n",
    "    print(string)"
   ]
  },
  {
   "cell_type": "code",
   "execution_count": 3,
   "id": "b8ef3c3c",
   "metadata": {},
   "outputs": [
    {
     "name": "stdout",
     "output_type": "stream",
     "text": [
      "yppaH\n"
     ]
    }
   ],
   "source": [
    "reverse_string('Happy')"
   ]
  },
  {
   "cell_type": "markdown",
   "id": "3bb21e54",
   "metadata": {},
   "source": [
    "Q-2) Implement a function to check if a given string is palindrome?"
   ]
  },
  {
   "cell_type": "code",
   "execution_count": 4,
   "id": "6a9b8ca3",
   "metadata": {},
   "outputs": [],
   "source": [
    "def palindrome_check(string):\n",
    "    if string==string[::-1]:\n",
    "        print('Its a palindrome')\n",
    "    else:\n",
    "        print('Not a palindrome')"
   ]
  },
  {
   "cell_type": "code",
   "execution_count": 5,
   "id": "aa424e57",
   "metadata": {},
   "outputs": [
    {
     "name": "stdout",
     "output_type": "stream",
     "text": [
      "Its a palindrome\n"
     ]
    }
   ],
   "source": [
    "palindrome_check('343')"
   ]
  },
  {
   "cell_type": "markdown",
   "id": "4752945b",
   "metadata": {},
   "source": [
    "Q-3) write a program to find largest element in a list"
   ]
  },
  {
   "cell_type": "code",
   "execution_count": 6,
   "id": "0506e4c5",
   "metadata": {},
   "outputs": [],
   "source": [
    "def largest_element(lst):\n",
    "    max_el=0\n",
    "    for i in lst:\n",
    "        if i>max_el:\n",
    "            max_el=i\n",
    "    return max_el        \n",
    "    "
   ]
  },
  {
   "cell_type": "code",
   "execution_count": 7,
   "id": "1be7357f",
   "metadata": {},
   "outputs": [
    {
     "data": {
      "text/plain": [
       "9"
      ]
     },
     "execution_count": 7,
     "metadata": {},
     "output_type": "execute_result"
    }
   ],
   "source": [
    "largest_element([2,7,1,9,5])"
   ]
  },
  {
   "cell_type": "markdown",
   "id": "d98157ac",
   "metadata": {},
   "source": [
    "Q-4) Implement a function to count the occurence of each element in a list"
   ]
  },
  {
   "cell_type": "code",
   "execution_count": 13,
   "id": "03280164",
   "metadata": {},
   "outputs": [],
   "source": [
    "from collections import Counter\n",
    "def count_el(lst):\n",
    "    count=Counter(lst)\n",
    "    return count"
   ]
  },
  {
   "cell_type": "code",
   "execution_count": 14,
   "id": "756835f2",
   "metadata": {},
   "outputs": [
    {
     "data": {
      "text/plain": [
       "Counter({6: 1, 7: 2, 1: 1, 2: 1, 4: 1, 8: 4})"
      ]
     },
     "execution_count": 14,
     "metadata": {},
     "output_type": "execute_result"
    }
   ],
   "source": [
    "count_el([6,7,1,2,4,7,8,8,8,8])"
   ]
  },
  {
   "cell_type": "markdown",
   "id": "dc8cd1fc",
   "metadata": {},
   "source": [
    "Q-5) Write a python program to find second largest number in a list"
   ]
  },
  {
   "cell_type": "code",
   "execution_count": 17,
   "id": "5125f44a",
   "metadata": {},
   "outputs": [],
   "source": [
    "def second_largest(lst):\n",
    "    lst.sort()\n",
    "    print('second largest number is:',lst[-2])"
   ]
  },
  {
   "cell_type": "code",
   "execution_count": 18,
   "id": "34d2bd93",
   "metadata": {},
   "outputs": [
    {
     "name": "stdout",
     "output_type": "stream",
     "text": [
      "second largest number is: 8\n"
     ]
    }
   ],
   "source": [
    "second_largest([7,6,3,8,9,2])"
   ]
  },
  {
   "cell_type": "markdown",
   "id": "40816f08",
   "metadata": {},
   "source": [
    "Q-6) Implement a function to remove duplicate element from the list"
   ]
  },
  {
   "cell_type": "code",
   "execution_count": 52,
   "id": "b538d773",
   "metadata": {},
   "outputs": [],
   "source": [
    "def rem_dup(lst):\n",
    "    new_lst=[]\n",
    "    length=len(lst)\n",
    "    for i in range(0,length):\n",
    "        if lst[i] not in new_lst:\n",
    "            new_lst.append(lst[i])\n",
    "    return new_lst            "
   ]
  },
  {
   "cell_type": "code",
   "execution_count": 53,
   "id": "5af6302c",
   "metadata": {},
   "outputs": [
    {
     "data": {
      "text/plain": [
       "[5, 8, 2, 1, 6, 3, 7]"
      ]
     },
     "execution_count": 53,
     "metadata": {},
     "output_type": "execute_result"
    }
   ],
   "source": [
    "rem_dup([5,8,2,1,5,6,3,2,7,7,7,7])"
   ]
  },
  {
   "cell_type": "markdown",
   "id": "4bf478b4",
   "metadata": {},
   "source": [
    "Q-7) Write a program to calculate factorial of a given number"
   ]
  },
  {
   "cell_type": "code",
   "execution_count": 57,
   "id": "a3103c0f",
   "metadata": {},
   "outputs": [],
   "source": [
    "def fact(num):\n",
    "    if num==0:\n",
    "        return 0\n",
    "    elif num==1:\n",
    "        return 1\n",
    "    return num*fact(num-1)"
   ]
  },
  {
   "cell_type": "code",
   "execution_count": 58,
   "id": "ee8afcfa",
   "metadata": {},
   "outputs": [
    {
     "data": {
      "text/plain": [
       "6"
      ]
     },
     "execution_count": 58,
     "metadata": {},
     "output_type": "execute_result"
    }
   ],
   "source": [
    "fact(3)"
   ]
  },
  {
   "cell_type": "markdown",
   "id": "60b90506",
   "metadata": {},
   "source": [
    "Q-8) Implement a function to check if given number is prime"
   ]
  },
  {
   "cell_type": "code",
   "execution_count": 76,
   "id": "7668a815",
   "metadata": {},
   "outputs": [],
   "source": [
    "def prime_check(num):\n",
    "    if num>1:\n",
    "        for i in range(2,int(num/2)+1):\n",
    "            if num%i==0:\n",
    "                print('not prime')\n",
    "                break\n",
    "        else:\n",
    "            print('is prime')\n",
    "    else:\n",
    "        print('not prime')"
   ]
  },
  {
   "cell_type": "code",
   "execution_count": 74,
   "id": "e864192c",
   "metadata": {},
   "outputs": [
    {
     "name": "stdout",
     "output_type": "stream",
     "text": [
      "is prime\n"
     ]
    }
   ],
   "source": [
    "prime_check(2)"
   ]
  },
  {
   "cell_type": "code",
   "execution_count": 77,
   "id": "1054aff4",
   "metadata": {},
   "outputs": [
    {
     "name": "stdout",
     "output_type": "stream",
     "text": [
      "not prime\n"
     ]
    }
   ],
   "source": [
    "prime_check(27)"
   ]
  },
  {
   "cell_type": "markdown",
   "id": "2b51b4b7",
   "metadata": {},
   "source": [
    "Q-9) Write a python program to sort a list of integers in ascending order"
   ]
  },
  {
   "cell_type": "code",
   "execution_count": 82,
   "id": "4e38b651",
   "metadata": {},
   "outputs": [],
   "source": [
    "def sort_lst(lst):\n",
    "    lst.sort()\n",
    "    return lst   "
   ]
  },
  {
   "cell_type": "code",
   "execution_count": 83,
   "id": "bb34ad64",
   "metadata": {},
   "outputs": [
    {
     "data": {
      "text/plain": [
       "[1, 2, 2, 3, 5, 5, 6, 7, 7, 7, 7, 8]"
      ]
     },
     "execution_count": 83,
     "metadata": {},
     "output_type": "execute_result"
    }
   ],
   "source": [
    "sort_lst([5,8,2,1,5,6,3,2,7,7,7,7])"
   ]
  },
  {
   "cell_type": "markdown",
   "id": "989e691c",
   "metadata": {},
   "source": [
    "Q-10) Implement a function to find sum of all the numbers in a list"
   ]
  },
  {
   "cell_type": "code",
   "execution_count": 80,
   "id": "00f0555d",
   "metadata": {},
   "outputs": [],
   "source": [
    "def sum_num(lst):\n",
    "    sum=0\n",
    "    for i in lst:\n",
    "        sum=sum+i\n",
    "    return sum    "
   ]
  },
  {
   "cell_type": "code",
   "execution_count": 81,
   "id": "dbbd4fe0",
   "metadata": {},
   "outputs": [
    {
     "data": {
      "text/plain": [
       "60"
      ]
     },
     "execution_count": 81,
     "metadata": {},
     "output_type": "execute_result"
    }
   ],
   "source": [
    "sum_num([5,8,2,1,5,6,3,2,7,7,7,7])"
   ]
  },
  {
   "cell_type": "markdown",
   "id": "1b07f0b8",
   "metadata": {},
   "source": [
    "Q-11) Write a program to find common elemnts between two list"
   ]
  },
  {
   "cell_type": "code",
   "execution_count": 85,
   "id": "18c1015a",
   "metadata": {},
   "outputs": [],
   "source": [
    "def common_elements(lst1,lst2):\n",
    "    common_lst=[]\n",
    "    for i in lst1:\n",
    "        for j in lst2:\n",
    "            if i==j:\n",
    "                common_lst.append(i)\n",
    "    return common_lst            \n",
    "                \n",
    "                "
   ]
  },
  {
   "cell_type": "code",
   "execution_count": 86,
   "id": "7f119710",
   "metadata": {},
   "outputs": [
    {
     "data": {
      "text/plain": [
       "[7, 8]"
      ]
     },
     "execution_count": 86,
     "metadata": {},
     "output_type": "execute_result"
    }
   ],
   "source": [
    "common_elements([2,6,7,8],[3,7,5,8])"
   ]
  },
  {
   "cell_type": "markdown",
   "id": "07cba554",
   "metadata": {},
   "source": [
    "Q-12) check if a given string is an anagram of other string"
   ]
  },
  {
   "cell_type": "code",
   "execution_count": 101,
   "id": "e462299a",
   "metadata": {},
   "outputs": [],
   "source": [
    "def check_anagram(string,main_str):\n",
    "    string=list(string)\n",
    "    main_string=list(main_str)\n",
    "    \n",
    "    for i in string:\n",
    "        if i in main_string:\n",
    "            main_string.remove(i)\n",
    "        else:\n",
    "            \n",
    "            print('not anagram')\n",
    "            break\n",
    "    else:\n",
    "        print('is anagram')"
   ]
  },
  {
   "cell_type": "code",
   "execution_count": 102,
   "id": "27e45a97",
   "metadata": {},
   "outputs": [
    {
     "name": "stdout",
     "output_type": "stream",
     "text": [
      "is anagram\n"
     ]
    }
   ],
   "source": [
    "check_anagram('happy','ghhyuapuhnupyiii')"
   ]
  },
  {
   "cell_type": "code",
   "execution_count": 103,
   "id": "a48c22fa",
   "metadata": {},
   "outputs": [
    {
     "name": "stdout",
     "output_type": "stream",
     "text": [
      "not anagram\n"
     ]
    }
   ],
   "source": [
    "check_anagram('happy','ghhuapuhnuiiiy')"
   ]
  },
  {
   "cell_type": "markdown",
   "id": "d79327e0",
   "metadata": {},
   "source": [
    "Q-13) Write a python program to generate all the permutation of a given string"
   ]
  },
  {
   "cell_type": "code",
   "execution_count": 104,
   "id": "2a4cff01",
   "metadata": {},
   "outputs": [],
   "source": [
    "def print_permutations(string, current=\"\"):\n",
    "    if len(string) == 0:\n",
    "        print(current)\n",
    "    else:\n",
    "        for i in range(len(string)):\n",
    "            new_current = current + string[i]\n",
    "            remaining_chars = string[:i] + string[i+1:]\n",
    "            print_permutations(remaining_chars, new_current)"
   ]
  },
  {
   "cell_type": "code",
   "execution_count": 106,
   "id": "072ee00c",
   "metadata": {},
   "outputs": [
    {
     "name": "stdout",
     "output_type": "stream",
     "text": [
      "abc\n",
      "acb\n",
      "bac\n",
      "bca\n",
      "cab\n",
      "cba\n"
     ]
    }
   ],
   "source": [
    "print_permutations('abc', current=\"\")"
   ]
  },
  {
   "cell_type": "markdown",
   "id": "7203d472",
   "metadata": {},
   "source": [
    "Q-14) Implement a function to calculate the Fibonacci sequence upto a given number of terms"
   ]
  },
  {
   "cell_type": "code",
   "execution_count": 132,
   "id": "44e327db",
   "metadata": {},
   "outputs": [],
   "source": [
    "def fibonacci_sequence(n):\n",
    "    sequence = [0, 1]  \n",
    "\n",
    "    if n <= 2:\n",
    "        return sequence[0:n] \n",
    "\n",
    "    for i in range(2, n):\n",
    "        sequence.append(sequence[-1] + sequence[-2])\n",
    "\n",
    "    return sequence\n"
   ]
  },
  {
   "cell_type": "code",
   "execution_count": 133,
   "id": "56ec0b6f",
   "metadata": {},
   "outputs": [
    {
     "data": {
      "text/plain": [
       "[0, 1, 1, 2, 3, 5]"
      ]
     },
     "execution_count": 133,
     "metadata": {},
     "output_type": "execute_result"
    }
   ],
   "source": [
    "fibonacci_sequence(6)"
   ]
  },
  {
   "cell_type": "markdown",
   "id": "d8a88403",
   "metadata": {},
   "source": [
    "Q-15) Write a program to find the median of the list of numbers"
   ]
  },
  {
   "cell_type": "code",
   "execution_count": 136,
   "id": "8fee80b8",
   "metadata": {},
   "outputs": [],
   "source": [
    "def find_median(numbers):\n",
    "    numbers.sort() \n",
    "    n = len(numbers)\n",
    "    if n % 2 == 0:\n",
    "        mid1 = numbers[n // 2]\n",
    "        mid2 = numbers[n // 2 - 1]\n",
    "        median = (mid1 + mid2) / 2\n",
    "    else:\n",
    "        median = numbers[n // 2]\n",
    "    \n",
    "    return median"
   ]
  },
  {
   "cell_type": "code",
   "execution_count": 137,
   "id": "a14f24d4",
   "metadata": {},
   "outputs": [
    {
     "data": {
      "text/plain": [
       "5"
      ]
     },
     "execution_count": 137,
     "metadata": {},
     "output_type": "execute_result"
    }
   ],
   "source": [
    "find_median([5, 2, 8, 4, 1, 9, 3, 7, 6])"
   ]
  },
  {
   "cell_type": "markdown",
   "id": "0ea2310b",
   "metadata": {},
   "source": [
    "Q-16) Check if list is sorted in non decreasing order"
   ]
  },
  {
   "cell_type": "code",
   "execution_count": 140,
   "id": "b55788a3",
   "metadata": {},
   "outputs": [],
   "source": [
    "def inc_check(lst):\n",
    "    for i in range(1,len(lst)):\n",
    "        if lst[i]<lst[i-1]:\n",
    "            print('not in increasing order')\n",
    "            break\n",
    "    else:\n",
    "        print('In increasing order')\n",
    "        "
   ]
  },
  {
   "cell_type": "code",
   "execution_count": 142,
   "id": "ef477f5a",
   "metadata": {},
   "outputs": [
    {
     "name": "stdout",
     "output_type": "stream",
     "text": [
      "In increasing order\n"
     ]
    }
   ],
   "source": [
    "inc_check([2,4,5,6,7])"
   ]
  },
  {
   "cell_type": "code",
   "execution_count": 143,
   "id": "2bd78a2e",
   "metadata": {},
   "outputs": [
    {
     "name": "stdout",
     "output_type": "stream",
     "text": [
      "not in increasing order\n"
     ]
    }
   ],
   "source": [
    "inc_check([2,4,1,5,6,7])"
   ]
  },
  {
   "cell_type": "markdown",
   "id": "0a255b00",
   "metadata": {},
   "source": [
    "Q-17) Find intersection of 2 lists"
   ]
  },
  {
   "cell_type": "code",
   "execution_count": 150,
   "id": "50ad675f",
   "metadata": {},
   "outputs": [],
   "source": [
    "def find_intersection(list1, list2):\n",
    "    set1 = set(list1)  \n",
    "    set2 = set(list2)  \n",
    "    \n",
    "    intersection = set1.intersection(set2) \n",
    "    \n",
    "    return list(intersection)  \n",
    "   "
   ]
  },
  {
   "cell_type": "code",
   "execution_count": 151,
   "id": "458a90dd",
   "metadata": {},
   "outputs": [
    {
     "data": {
      "text/plain": [
       "[1, 2, 5, 6, 8]"
      ]
     },
     "execution_count": 151,
     "metadata": {},
     "output_type": "execute_result"
    }
   ],
   "source": [
    "find_intersection([1,2,4,1,5,6,8],[2,1,6,7,5,8])"
   ]
  },
  {
   "cell_type": "markdown",
   "id": "49438849",
   "metadata": {},
   "source": [
    "Q-18) Write a function to find maximum subarray sum in a list"
   ]
  },
  {
   "cell_type": "code",
   "execution_count": 155,
   "id": "c25454ef",
   "metadata": {},
   "outputs": [],
   "source": [
    "def max_subarray_sum(lst):\n",
    "    max_sum = float('-inf')  \n",
    "    current_sum = 0  \n",
    "    \n",
    "    for i in lst:\n",
    "        current_sum = max(i, current_sum + i)\n",
    "        if current_sum > max_sum:\n",
    "            max_sum = current_sum\n",
    "    \n",
    "    return max_sum\n",
    "    "
   ]
  },
  {
   "cell_type": "code",
   "execution_count": 156,
   "id": "90ae3e58",
   "metadata": {},
   "outputs": [
    {
     "data": {
      "text/plain": [
       "6"
      ]
     },
     "execution_count": 156,
     "metadata": {},
     "output_type": "execute_result"
    }
   ],
   "source": [
    "max_subarray_sum([-2, 1, -3, 4, -1, 2, 1, -5, 4])\n",
    "\n"
   ]
  },
  {
   "cell_type": "markdown",
   "id": "50c9e91d",
   "metadata": {},
   "source": [
    "Q-19) Write a program to remove all vowel from the string"
   ]
  },
  {
   "cell_type": "code",
   "execution_count": 157,
   "id": "93b42ea4",
   "metadata": {},
   "outputs": [],
   "source": [
    "def rem_vowel(string):\n",
    "    vowel=['a','e','i','o','u','A','E','I','O','U']\n",
    "    string=list(string)\n",
    "    for i in vowel:\n",
    "        if i in string:\n",
    "            string.remove(i)\n",
    "    return ''.join(string)        \n",
    "\n",
    "        "
   ]
  },
  {
   "cell_type": "code",
   "execution_count": 158,
   "id": "3c0d1e92",
   "metadata": {},
   "outputs": [
    {
     "data": {
      "text/plain": [
       "'swt'"
      ]
     },
     "execution_count": 158,
     "metadata": {},
     "output_type": "execute_result"
    }
   ],
   "source": [
    "rem_vowel('swati')"
   ]
  },
  {
   "cell_type": "markdown",
   "id": "c0c1e02f",
   "metadata": {},
   "source": [
    "Q-20) Write a function to reverse the order of words in a given sentence"
   ]
  },
  {
   "cell_type": "code",
   "execution_count": 164,
   "id": "c872dce5",
   "metadata": {},
   "outputs": [],
   "source": [
    "def reverese_words(sent):\n",
    "    lst=sent.split()\n",
    "    for i in range(0,len(lst)):\n",
    "        lst[i]=lst[i][::-1]\n",
    "    return ' '.join(lst)    \n"
   ]
  },
  {
   "cell_type": "code",
   "execution_count": 165,
   "id": "25553c2e",
   "metadata": {},
   "outputs": [
    {
     "data": {
      "text/plain": [
       "'!yeH stI a ecin yad'"
      ]
     },
     "execution_count": 165,
     "metadata": {},
     "output_type": "execute_result"
    }
   ],
   "source": [
    "reverese_words('Hey! Its a nice day')"
   ]
  },
  {
   "cell_type": "markdown",
   "id": "67381b7f",
   "metadata": {},
   "source": [
    "Q-21) Check if 2 strings are anagram of each other"
   ]
  },
  {
   "cell_type": "code",
   "execution_count": 167,
   "id": "fb12ba57",
   "metadata": {},
   "outputs": [],
   "source": [
    "def anagrams_check(string1, string2):\n",
    "    string1 = string1.lower().replace(\" \", \"\")\n",
    "    string2 = string2.lower().replace(\" \", \"\")\n",
    "    \n",
    "    return sorted(string1) == sorted(string2)\n"
   ]
  },
  {
   "cell_type": "code",
   "execution_count": 169,
   "id": "ff50ead6",
   "metadata": {},
   "outputs": [
    {
     "data": {
      "text/plain": [
       "True"
      ]
     },
     "execution_count": 169,
     "metadata": {},
     "output_type": "execute_result"
    }
   ],
   "source": [
    "anagrams_check(\"listen\", \"silent\")"
   ]
  },
  {
   "cell_type": "markdown",
   "id": "1694c43d",
   "metadata": {},
   "source": [
    "Q-22) Implement a function to find non-repeating character in a string"
   ]
  },
  {
   "cell_type": "code",
   "execution_count": 184,
   "id": "cdf2f360",
   "metadata": {},
   "outputs": [],
   "source": [
    "from collections import Counter\n",
    "def non_repeating(string):\n",
    "    new_string=string.split()\n",
    "    count=Counter(new_string)\n",
    "    for key,value in count.items():\n",
    "        if value==1:\n",
    "            return key\n",
    "        \n",
    "  \n",
    "        "
   ]
  },
  {
   "cell_type": "code",
   "execution_count": 185,
   "id": "0d5766fa",
   "metadata": {},
   "outputs": [
    {
     "data": {
      "text/plain": [
       "'Today'"
      ]
     },
     "execution_count": 185,
     "metadata": {},
     "output_type": "execute_result"
    }
   ],
   "source": [
    "non_repeating('is is is Today is is a good day')"
   ]
  },
  {
   "cell_type": "markdown",
   "id": "0d87b6bb",
   "metadata": {},
   "source": [
    "Q-23) Write a program to find prime factors of a given number"
   ]
  },
  {
   "cell_type": "code",
   "execution_count": 195,
   "id": "c61ae6e2",
   "metadata": {},
   "outputs": [],
   "source": [
    "def prime_factor(n):\n",
    "    factors = []\n",
    "    divisor = 2\n",
    "    while divisor * divisor <= n:\n",
    "        if n % divisor == 0:\n",
    "            factors.append(divisor)\n",
    "            n //= divisor\n",
    "        else:\n",
    "            divisor += 1\n",
    "    if n > 1:\n",
    "        factors.append(n)\n",
    "    return factors\n",
    "\n",
    "            "
   ]
  },
  {
   "cell_type": "code",
   "execution_count": 196,
   "id": "3f37454f",
   "metadata": {},
   "outputs": [
    {
     "data": {
      "text/plain": [
       "[2, 2, 2, 7]"
      ]
     },
     "execution_count": 196,
     "metadata": {},
     "output_type": "execute_result"
    }
   ],
   "source": [
    "prime_factor(56)"
   ]
  },
  {
   "cell_type": "code",
   "execution_count": 197,
   "id": "0234d986",
   "metadata": {},
   "outputs": [
    {
     "data": {
      "text/plain": [
       "[13]"
      ]
     },
     "execution_count": 197,
     "metadata": {},
     "output_type": "execute_result"
    }
   ],
   "source": [
    "prime_factor(13)"
   ]
  },
  {
   "cell_type": "markdown",
   "id": "de86bd31",
   "metadata": {},
   "source": [
    "Q-24) Implement a function to check if a given number is a power of two"
   ]
  },
  {
   "cell_type": "code",
   "execution_count": 198,
   "id": "af34a27d",
   "metadata": {},
   "outputs": [],
   "source": [
    "def pow_of_two(n):\n",
    "    if n==1:\n",
    "        return True\n",
    "    if n<1 or n%2!=0:\n",
    "        return False\n",
    "    return pow_of_two(n//2)\n",
    "        "
   ]
  },
  {
   "cell_type": "code",
   "execution_count": 199,
   "id": "c649c620",
   "metadata": {},
   "outputs": [
    {
     "data": {
      "text/plain": [
       "True"
      ]
     },
     "execution_count": 199,
     "metadata": {},
     "output_type": "execute_result"
    }
   ],
   "source": [
    "pow_of_two(64)"
   ]
  },
  {
   "cell_type": "code",
   "execution_count": 200,
   "id": "a44c0eba",
   "metadata": {},
   "outputs": [
    {
     "data": {
      "text/plain": [
       "False"
      ]
     },
     "execution_count": 200,
     "metadata": {},
     "output_type": "execute_result"
    }
   ],
   "source": [
    "pow_of_two(9)"
   ]
  },
  {
   "cell_type": "markdown",
   "id": "c5be4e5f",
   "metadata": {},
   "source": [
    "Q-25) write a program to merge two sorted list into a single sorted list"
   ]
  },
  {
   "cell_type": "code",
   "execution_count": 203,
   "id": "86f46b31",
   "metadata": {},
   "outputs": [],
   "source": [
    "def merge_list(lst1, lst2):\n",
    "    merged_list = []\n",
    "    i = 0\n",
    "    j = 0\n",
    "\n",
    "    while i < len(lst1) and j < len(lst2):\n",
    "        if lst1[i] <= lst2[j]:\n",
    "            merged_list.append(lst1[i])\n",
    "            i += 1\n",
    "        else:\n",
    "            merged_list.append(lst2[j])\n",
    "            j += 1\n",
    "\n",
    "    while i < len(lst1):\n",
    "        merged_list.append(lst1[i])\n",
    "        i += 1\n",
    "\n",
    "    while j < len(lst2):\n",
    "        merged_list.append(lst2[j])\n",
    "        j += 1\n",
    "\n",
    "    return merged_list\n",
    "     "
   ]
  },
  {
   "cell_type": "code",
   "execution_count": 204,
   "id": "4e2a51e5",
   "metadata": {},
   "outputs": [
    {
     "data": {
      "text/plain": [
       "[1, 2, 2, 4, 6, 7, 7, 8, 9, 10, 11]"
      ]
     },
     "execution_count": 204,
     "metadata": {},
     "output_type": "execute_result"
    }
   ],
   "source": [
    "merge_list([1,2,4,6,7],[2,7,8,9,10,11])"
   ]
  },
  {
   "cell_type": "markdown",
   "id": "0dff8e39",
   "metadata": {},
   "source": [
    "Q-26) write a function to find mode of a list of numbers"
   ]
  },
  {
   "cell_type": "code",
   "execution_count": 229,
   "id": "38701027",
   "metadata": {},
   "outputs": [],
   "source": [
    "from collections import Counter\n",
    "\n",
    "def mode_num(lst):\n",
    "    count = Counter(lst)\n",
    "    max_count = max(count.values())\n",
    "    modes = [num for num, freq in count.items() if freq == max_count]\n",
    "\n",
    "    return modes\n",
    "\n",
    "           "
   ]
  },
  {
   "cell_type": "code",
   "execution_count": 230,
   "id": "20a8c3b5",
   "metadata": {},
   "outputs": [
    {
     "data": {
      "text/plain": [
       "[2, 7]"
      ]
     },
     "execution_count": 230,
     "metadata": {},
     "output_type": "execute_result"
    }
   ],
   "source": [
    "mode_num([1, 1, 1.5, 1.5, 9, 2, 4, 5, 2, 2, 2, 7, 6, 7, 7, 7])"
   ]
  },
  {
   "cell_type": "markdown",
   "id": "a7fca936",
   "metadata": {},
   "source": [
    "Q-27) Write a program to find GCD of two numbers"
   ]
  },
  {
   "cell_type": "code",
   "execution_count": 2,
   "id": "d2ea04c6",
   "metadata": {},
   "outputs": [],
   "source": [
    "def gcd(a, b):\n",
    "    while b != 0:\n",
    "        a, b = b, a % b\n",
    "    return a\n"
   ]
  },
  {
   "cell_type": "code",
   "execution_count": 4,
   "id": "33b56d60",
   "metadata": {},
   "outputs": [
    {
     "data": {
      "text/plain": [
       "2"
      ]
     },
     "execution_count": 4,
     "metadata": {},
     "output_type": "execute_result"
    }
   ],
   "source": [
    "gcd(4, 6)"
   ]
  },
  {
   "cell_type": "markdown",
   "id": "be6ecb52",
   "metadata": {},
   "source": [
    "Q-28) Implement a function to calculate square root of a given number"
   ]
  },
  {
   "cell_type": "code",
   "execution_count": 21,
   "id": "43b83407",
   "metadata": {},
   "outputs": [],
   "source": [
    "def sqrt(n):\n",
    "    if n < 0:\n",
    "        raise ValueError(\"Cannot calculate square root of a negative number.\")\n",
    "    guess = n / 2\n",
    "\n",
    "    while True:\n",
    "        new_guess = (guess + n / guess) / 2\n",
    "        if abs(new_guess - guess) < 1e-9:  \n",
    "            return new_guess\n",
    "        guess = new_guess\n",
    "\n",
    "    "
   ]
  },
  {
   "cell_type": "code",
   "execution_count": 22,
   "id": "8b1fbf75",
   "metadata": {},
   "outputs": [
    {
     "data": {
      "text/plain": [
       "2.23606797749979"
      ]
     },
     "execution_count": 22,
     "metadata": {},
     "output_type": "execute_result"
    }
   ],
   "source": [
    "sqrt(5)"
   ]
  },
  {
   "cell_type": "markdown",
   "id": "1ea5933a",
   "metadata": {},
   "source": [
    "Q-29) Write a python program to check if given string is a valid palindrome ignoring non-alphanumeric characters"
   ]
  },
  {
   "cell_type": "code",
   "execution_count": 27,
   "id": "8a80ef7e",
   "metadata": {},
   "outputs": [],
   "source": [
    "def palindrome_check(string):\n",
    "    alphanumeric_string = ''.join(char for char in string if char.isalnum())\n",
    "    if alphanumeric_string == alphanumeric_string[::-1]:\n",
    "        return True\n",
    "    else:\n",
    "        return False"
   ]
  },
  {
   "cell_type": "code",
   "execution_count": 29,
   "id": "9403cfcf",
   "metadata": {},
   "outputs": [
    {
     "data": {
      "text/plain": [
       "True"
      ]
     },
     "execution_count": 29,
     "metadata": {},
     "output_type": "execute_result"
    }
   ],
   "source": [
    "palindrome_check(\"ab#$a\")\n",
    "    "
   ]
  },
  {
   "cell_type": "markdown",
   "id": "472fddc4",
   "metadata": {},
   "source": [
    "Q-30) Implement a function to find the minumum element in a rotated sorted array"
   ]
  },
  {
   "cell_type": "code",
   "execution_count": 133,
   "id": "dc0927b2",
   "metadata": {},
   "outputs": [],
   "source": [
    "def find_minimum(nums):\n",
    "    left = 0\n",
    "    right = len(nums) - 1\n",
    "\n",
    "    while left < right:\n",
    "        mid = (left+right)//2\n",
    "\n",
    "        if nums[mid] > nums[right]:\n",
    "            left = mid + 1\n",
    "        else:\n",
    "            right = mid\n",
    "\n",
    "    return nums[left]"
   ]
  },
  {
   "cell_type": "code",
   "execution_count": 135,
   "id": "e7639183",
   "metadata": {},
   "outputs": [
    {
     "data": {
      "text/plain": [
       "1"
      ]
     },
     "execution_count": 135,
     "metadata": {},
     "output_type": "execute_result"
    }
   ],
   "source": [
    "find_minimum([4, 5, 6, 7,  1, 2])"
   ]
  },
  {
   "cell_type": "markdown",
   "id": "2e5e30a3",
   "metadata": {},
   "source": [
    "Q-31) Write a program to find sum of all even numbers in a list"
   ]
  },
  {
   "cell_type": "code",
   "execution_count": 30,
   "id": "1232febf",
   "metadata": {},
   "outputs": [],
   "source": [
    "def sum_event(lst):\n",
    "    sum=0\n",
    "    for i in lst:\n",
    "        if i%2==0:\n",
    "            sum=sum+i\n",
    "    return sum        \n",
    "            "
   ]
  },
  {
   "cell_type": "code",
   "execution_count": 31,
   "id": "37e5e728",
   "metadata": {},
   "outputs": [
    {
     "data": {
      "text/plain": [
       "20"
      ]
     },
     "execution_count": 31,
     "metadata": {},
     "output_type": "execute_result"
    }
   ],
   "source": [
    "sum_event([2,8,7,6,5,4,3,9])"
   ]
  },
  {
   "cell_type": "markdown",
   "id": "45db73a0",
   "metadata": {},
   "source": [
    "Q-32) Implement a function to calculate power of a number using recursion"
   ]
  },
  {
   "cell_type": "code",
   "execution_count": 32,
   "id": "62f9a4c0",
   "metadata": {},
   "outputs": [],
   "source": [
    "def pow(base,power):\n",
    "    if power==0:\n",
    "        return 1\n",
    "    elif power<0:\n",
    "        return 1/pow(base,power)\n",
    "    return base * pow(base,power-1)"
   ]
  },
  {
   "cell_type": "code",
   "execution_count": 33,
   "id": "01c649b3",
   "metadata": {},
   "outputs": [
    {
     "data": {
      "text/plain": [
       "8"
      ]
     },
     "execution_count": 33,
     "metadata": {},
     "output_type": "execute_result"
    }
   ],
   "source": [
    "pow(2,3)"
   ]
  },
  {
   "cell_type": "markdown",
   "id": "1781e459",
   "metadata": {},
   "source": [
    "Q-33) Write a program to remove duplicates from the list while preserving the order"
   ]
  },
  {
   "cell_type": "code",
   "execution_count": 34,
   "id": "6b2325ea",
   "metadata": {},
   "outputs": [],
   "source": [
    "\n",
    "def dup_remove(lst):\n",
    "    unique_lst=[]\n",
    "    for i in lst:\n",
    "        if i not in unique_lst:\n",
    "            unique_lst.append(i)\n",
    "    return unique_lst        \n",
    "    "
   ]
  },
  {
   "cell_type": "code",
   "execution_count": 35,
   "id": "4d650754",
   "metadata": {},
   "outputs": [
    {
     "data": {
      "text/plain": [
       "[1, 3, 2, 5, 8]"
      ]
     },
     "execution_count": 35,
     "metadata": {},
     "output_type": "execute_result"
    }
   ],
   "source": [
    "dup_remove([1, 3, 2, 1, 5, 2, 8, 3])"
   ]
  },
  {
   "cell_type": "markdown",
   "id": "b1083119",
   "metadata": {},
   "source": [
    "Q-34) Implement\" a function to find longest common prefix among a list of strings"
   ]
  },
  {
   "cell_type": "code",
   "execution_count": 127,
   "id": "4ca9fde9",
   "metadata": {},
   "outputs": [],
   "source": [
    "def longest_common_prefix(strings):\n",
    "    if len(strings)==0:\n",
    "        return ''\n",
    "    prefix=strings[0]\n",
    "    for string in strings[1:]:\n",
    "        while string.startswith(prefix) is False:\n",
    "            prefix=prefix[:-1]\n",
    "            if prefix=='':\n",
    "                return prefix \n",
    "    return prefix        \n",
    "\n",
    "            "
   ]
  },
  {
   "cell_type": "code",
   "execution_count": 128,
   "id": "6dbafc99",
   "metadata": {},
   "outputs": [
    {
     "data": {
      "text/plain": [
       "'fl'"
      ]
     },
     "execution_count": 128,
     "metadata": {},
     "output_type": "execute_result"
    }
   ],
   "source": [
    "longest_common_prefix([\"flower\", \"flow\", \"flight\"])"
   ]
  },
  {
   "cell_type": "markdown",
   "id": "cfe66f6e",
   "metadata": {},
   "source": [
    "Q-35) Write program to check if a given number is perfect square"
   ]
  },
  {
   "cell_type": "code",
   "execution_count": 40,
   "id": "b697d7d9",
   "metadata": {},
   "outputs": [],
   "source": [
    "def perfect_square_check(n):\n",
    "    for i in range(0,(n//2)+1):\n",
    "        if i**2==n:\n",
    "            return 'perfect square'\n",
    "            break\n",
    "    else:\n",
    "        return 'Not perfect square'    "
   ]
  },
  {
   "cell_type": "code",
   "execution_count": 41,
   "id": "b6f59902",
   "metadata": {},
   "outputs": [
    {
     "data": {
      "text/plain": [
       "'Not perfect square'"
      ]
     },
     "execution_count": 41,
     "metadata": {},
     "output_type": "execute_result"
    }
   ],
   "source": [
    "perfect_square_check(6)"
   ]
  },
  {
   "cell_type": "code",
   "execution_count": 42,
   "id": "6010a91e",
   "metadata": {},
   "outputs": [
    {
     "data": {
      "text/plain": [
       "'perfect square'"
      ]
     },
     "execution_count": 42,
     "metadata": {},
     "output_type": "execute_result"
    }
   ],
   "source": [
    "perfect_square_check(16)"
   ]
  },
  {
   "cell_type": "markdown",
   "id": "47a270c1",
   "metadata": {},
   "source": [
    "Q-36) Implement a function to calculate the product of all the element in the list"
   ]
  },
  {
   "cell_type": "code",
   "execution_count": 43,
   "id": "061becd9",
   "metadata": {},
   "outputs": [],
   "source": [
    "def product(lst):\n",
    "    product=1\n",
    "    for i in lst:\n",
    "        product=product*i\n",
    "    return product    \n",
    "        \n",
    "    "
   ]
  },
  {
   "cell_type": "code",
   "execution_count": 44,
   "id": "85f35a5d",
   "metadata": {},
   "outputs": [
    {
     "data": {
      "text/plain": [
       "40"
      ]
     },
     "execution_count": 44,
     "metadata": {},
     "output_type": "execute_result"
    }
   ],
   "source": [
    "product([4,5,1,2])"
   ]
  },
  {
   "cell_type": "markdown",
   "id": "2d38295c",
   "metadata": {},
   "source": [
    "Q-37) Write program to reverse the order of words in a sentence while preserving the word order"
   ]
  },
  {
   "cell_type": "code",
   "execution_count": 46,
   "id": "d1bc3a93",
   "metadata": {},
   "outputs": [],
   "source": [
    "def reverese_words(sent):\n",
    "    lst=sent.split()\n",
    "    for i in range(0,len(lst)):\n",
    "        lst[i]=lst[i][::-1]\n",
    "    return ' '.join(lst)    "
   ]
  },
  {
   "cell_type": "code",
   "execution_count": 47,
   "id": "1ee90529",
   "metadata": {},
   "outputs": [
    {
     "data": {
      "text/plain": [
       "'yadoT si a doog yad dna yppah yad'"
      ]
     },
     "execution_count": 47,
     "metadata": {},
     "output_type": "execute_result"
    }
   ],
   "source": [
    "reverese_words('Today is a good day and happy day')"
   ]
  },
  {
   "cell_type": "markdown",
   "id": "18ae44ca",
   "metadata": {},
   "source": [
    "Q-38) Implement a function to find the missing number in given list of consecutive numbers"
   ]
  },
  {
   "cell_type": "code",
   "execution_count": 56,
   "id": "64033b7e",
   "metadata": {},
   "outputs": [],
   "source": [
    "def find_missing_num(lst):\n",
    "    missing_num=[]\n",
    "    for i in range(0,len(lst)):\n",
    "        if (lst[i]-lst[i-1])>1:\n",
    "            missing_num.append(lst[i]-1)\n",
    "    if len(missing_num)==0:\n",
    "        return 'No missing number'\n",
    "    else:\n",
    "        return missing_num\n",
    "            "
   ]
  },
  {
   "cell_type": "code",
   "execution_count": 57,
   "id": "65586102",
   "metadata": {},
   "outputs": [
    {
     "data": {
      "text/plain": [
       "[3, 6]"
      ]
     },
     "execution_count": 57,
     "metadata": {},
     "output_type": "execute_result"
    }
   ],
   "source": [
    "find_missing_num([1,2,4,5,7])"
   ]
  },
  {
   "cell_type": "code",
   "execution_count": 58,
   "id": "a99209c8",
   "metadata": {},
   "outputs": [
    {
     "data": {
      "text/plain": [
       "'No missing number'"
      ]
     },
     "execution_count": 58,
     "metadata": {},
     "output_type": "execute_result"
    }
   ],
   "source": [
    "find_missing_num([1,2,3,4,5])"
   ]
  },
  {
   "cell_type": "markdown",
   "id": "c2e3fc7a",
   "metadata": {},
   "source": [
    "Q-39) Write a program to find sum of digits of a given number"
   ]
  },
  {
   "cell_type": "code",
   "execution_count": 60,
   "id": "55927b90",
   "metadata": {},
   "outputs": [],
   "source": [
    "def sum_of_digits(n):\n",
    "    sum=0\n",
    "    n=str(n)\n",
    "    for i in n:\n",
    "        sum=sum+ int(i)\n",
    "    return sum        "
   ]
  },
  {
   "cell_type": "code",
   "execution_count": 63,
   "id": "d1b84966",
   "metadata": {},
   "outputs": [
    {
     "data": {
      "text/plain": [
       "20"
      ]
     },
     "execution_count": 63,
     "metadata": {},
     "output_type": "execute_result"
    }
   ],
   "source": [
    "sum_of_digits(389)"
   ]
  },
  {
   "cell_type": "markdown",
   "id": "09e081b9",
   "metadata": {},
   "source": [
    "Q-40) Implement a function to check if a given string is a valid Palindrome considering case sensitivity"
   ]
  },
  {
   "cell_type": "code",
   "execution_count": 65,
   "id": "c77bc0f7",
   "metadata": {},
   "outputs": [],
   "source": [
    "def is_palindrome(string):\n",
    "    string = string.replace(\" \", \"\").lower()\n",
    "    return string == string[::-1]"
   ]
  },
  {
   "cell_type": "code",
   "execution_count": 66,
   "id": "84ee6d82",
   "metadata": {},
   "outputs": [
    {
     "data": {
      "text/plain": [
       "False"
      ]
     },
     "execution_count": 66,
     "metadata": {},
     "output_type": "execute_result"
    }
   ],
   "source": [
    "is_palindrome('Hey! Lets code on Python')"
   ]
  },
  {
   "cell_type": "code",
   "execution_count": 67,
   "id": "f2f5b411",
   "metadata": {},
   "outputs": [
    {
     "data": {
      "text/plain": [
       "True"
      ]
     },
     "execution_count": 67,
     "metadata": {},
     "output_type": "execute_result"
    }
   ],
   "source": [
    "is_palindrome('aba ABA')"
   ]
  },
  {
   "cell_type": "markdown",
   "id": "5ee399e6",
   "metadata": {},
   "source": [
    "Q-41) python program to find smallest missing positive integer in a list"
   ]
  },
  {
   "cell_type": "code",
   "execution_count": 70,
   "id": "f31f6639",
   "metadata": {},
   "outputs": [],
   "source": [
    "def smallest_positive_missing_num(lst):\n",
    "    missing_num = []\n",
    "    for i in range(1, len(lst)):\n",
    "        if lst[i] - lst[i-1] > 1:\n",
    "            missing_num.append(lst[i] - 1)\n",
    "    if len(missing_num) == 0:\n",
    "        return 'No missing number'\n",
    "    else:\n",
    "        smallest_positive = min([num for num in missing_num if num > 0])\n",
    "        return smallest_positive"
   ]
  },
  {
   "cell_type": "code",
   "execution_count": 71,
   "id": "0427bfae",
   "metadata": {},
   "outputs": [
    {
     "data": {
      "text/plain": [
       "4"
      ]
     },
     "execution_count": 71,
     "metadata": {},
     "output_type": "execute_result"
    }
   ],
   "source": [
    "smallest_positive_missing_num([-3,-2,0,1,2,3,5,6,7])"
   ]
  },
  {
   "cell_type": "markdown",
   "id": "5fe76813",
   "metadata": {},
   "source": [
    "Q-42) Implement a function to find longest palindrome substring in a given string "
   ]
  },
  {
   "cell_type": "code",
   "execution_count": 81,
   "id": "e205429d",
   "metadata": {},
   "outputs": [],
   "source": [
    "def longest_palindrome_substring(string):\n",
    "    max_len=0\n",
    "    longest_string=''\n",
    "    for i in range(0,len(string)):\n",
    "        for j in range(i,len(string)):\n",
    "            sub_string=string[i:j+1]\n",
    "            if sub_string==sub_string[::-1] and len(sub_string)>max_len:\n",
    "                max_len=len(sub_string)\n",
    "                longest_string=sub_string\n",
    "    return  longest_string           \n",
    "      "
   ]
  },
  {
   "cell_type": "code",
   "execution_count": 82,
   "id": "2863dd89",
   "metadata": {},
   "outputs": [
    {
     "data": {
      "text/plain": [
       "'aba'"
      ]
     },
     "execution_count": 82,
     "metadata": {},
     "output_type": "execute_result"
    }
   ],
   "source": [
    "longest_palindrome_substring('aba')"
   ]
  },
  {
   "cell_type": "markdown",
   "id": "a54437d1",
   "metadata": {},
   "source": [
    "Q-43) write a program to find the number of occurences of a given elemnt in a list"
   ]
  },
  {
   "cell_type": "code",
   "execution_count": 92,
   "id": "c3b90d24",
   "metadata": {},
   "outputs": [],
   "source": [
    "from collections import Counter\n",
    "def occurences(lst,n):\n",
    "    count=Counter(lst)\n",
    "    new_lst=[(key,value) for (key,value) in count.items() if key==n ]\n",
    "    return new_lst[0][1]\n",
    "    "
   ]
  },
  {
   "cell_type": "code",
   "execution_count": 93,
   "id": "796087c1",
   "metadata": {},
   "outputs": [
    {
     "data": {
      "text/plain": [
       "4"
      ]
     },
     "execution_count": 93,
     "metadata": {},
     "output_type": "execute_result"
    }
   ],
   "source": [
    "occurences([1,2,2,2,2,4,5,1,7,8],2)"
   ]
  },
  {
   "cell_type": "markdown",
   "id": "3de0963a",
   "metadata": {},
   "source": [
    "Q-44) Implement a function to check if a given number is a perfect number"
   ]
  },
  {
   "cell_type": "code",
   "execution_count": 104,
   "id": "9de1bb3a",
   "metadata": {},
   "outputs": [],
   "source": [
    "def perfect_number(n):\n",
    "    divisor=[]\n",
    "    for i in range(1,(n//2)+1):\n",
    "        if n%i==0:\n",
    "            divisor.append(i)\n",
    "    sum_divisor=sum(divisor)\n",
    "    if sum_divisor==n:\n",
    "        return 'perfect_square'\n",
    "    else:\n",
    "        return 'not a perfect square'\n",
    "            "
   ]
  },
  {
   "cell_type": "code",
   "execution_count": 105,
   "id": "320572f2",
   "metadata": {},
   "outputs": [
    {
     "data": {
      "text/plain": [
       "'perfect_square'"
      ]
     },
     "execution_count": 105,
     "metadata": {},
     "output_type": "execute_result"
    }
   ],
   "source": [
    "perfect_number(6)"
   ]
  },
  {
   "cell_type": "markdown",
   "id": "c1873ebd",
   "metadata": {},
   "source": [
    "Q-45) Write a python program to remove all duplicates from a string"
   ]
  },
  {
   "cell_type": "code",
   "execution_count": 114,
   "id": "4e283260",
   "metadata": {},
   "outputs": [],
   "source": [
    "def remove_dup(string):\n",
    "    distinct = \"\"\n",
    "    for char in string:\n",
    "        if char not in distinct:\n",
    "            distinct=distinct+char\n",
    "    return distinct"
   ]
  },
  {
   "cell_type": "code",
   "execution_count": 115,
   "id": "cc561818",
   "metadata": {},
   "outputs": [
    {
     "data": {
      "text/plain": [
       "'Hapy'"
      ]
     },
     "execution_count": 115,
     "metadata": {},
     "output_type": "execute_result"
    }
   ],
   "source": [
    "remove_dup('Happyy')"
   ]
  },
  {
   "cell_type": "markdown",
   "id": "6a4652c5",
   "metadata": {},
   "source": [
    "Q-46) Implement a function to find first missing positive number in given list of consecutive numbers"
   ]
  },
  {
   "cell_type": "code",
   "execution_count": 119,
   "id": "09723ff9",
   "metadata": {},
   "outputs": [],
   "source": [
    "def missing_positive(lst):\n",
    "    missing_num = []\n",
    "    for i in range(1, len(lst)):\n",
    "        if lst[i] - lst[i-1] > 1:\n",
    "            missing_num.append(lst[i] - 1)\n",
    "    if len(missing_num) == 0:\n",
    "        return 'No missing number'\n",
    "    else:\n",
    "        positive = [num for num in missing_num if num > 0][0]\n",
    "        return positive"
   ]
  },
  {
   "cell_type": "code",
   "execution_count": 120,
   "id": "30bff7a0",
   "metadata": {},
   "outputs": [
    {
     "data": {
      "text/plain": [
       "3"
      ]
     },
     "execution_count": 120,
     "metadata": {},
     "output_type": "execute_result"
    }
   ],
   "source": [
    "missing_positive([-2,0,1,4,5,7])"
   ]
  },
  {
   "cell_type": "code",
   "execution_count": null,
   "id": "9fd7e16d",
   "metadata": {},
   "outputs": [],
   "source": []
  }
 ],
 "metadata": {
  "kernelspec": {
   "display_name": "Python 3 (ipykernel)",
   "language": "python",
   "name": "python3"
  },
  "language_info": {
   "codemirror_mode": {
    "name": "ipython",
    "version": 3
   },
   "file_extension": ".py",
   "mimetype": "text/x-python",
   "name": "python",
   "nbconvert_exporter": "python",
   "pygments_lexer": "ipython3",
   "version": "3.10.12"
  }
 },
 "nbformat": 4,
 "nbformat_minor": 5
}
