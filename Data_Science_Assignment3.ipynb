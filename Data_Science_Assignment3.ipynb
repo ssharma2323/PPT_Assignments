{
 "cells": [
  {
   "cell_type": "markdown",
   "id": "fa5baebf",
   "metadata": {},
   "source": [
    "Q-1)"
   ]
  },
  {
   "cell_type": "code",
   "execution_count": null,
   "id": "93248004",
   "metadata": {},
   "outputs": [],
   "source": [
    "import numpy as np\n",
    "RegionA=[10,15,12,8,14]\n",
    "RegionB=[18,20,16,22,25]\n",
    "print('mean sale of region A : ',np.mean(RegionA))\n",
    "print('mean sale of region B : ',np.mean(RegionB))"
   ]
  },
  {
   "cell_type": "markdown",
   "id": "c401d49d",
   "metadata": {},
   "source": [
    "Q-2)"
   ]
  },
  {
   "cell_type": "code",
   "execution_count": 10,
   "id": "b7608c52",
   "metadata": {},
   "outputs": [
    {
     "name": "stdout",
     "output_type": "stream",
     "text": [
      "Mode of survey is : 4\n"
     ]
    }
   ],
   "source": [
    "import statistics as sts\n",
    "customer_rating=[4,5,2,3,5,4,3,2,4,5]\n",
    "print('Mode of survey is :',sts.mode(customer_rating))"
   ]
  },
  {
   "cell_type": "markdown",
   "id": "c195bcce",
   "metadata": {},
   "source": [
    "Q-3)"
   ]
  },
  {
   "cell_type": "code",
   "execution_count": 12,
   "id": "54211731",
   "metadata": {},
   "outputs": [
    {
     "name": "stdout",
     "output_type": "stream",
     "text": [
      "mean sale of departA :  12.0\n",
      "mean sale of departB :  20.0\n"
     ]
    }
   ],
   "source": [
    "departA=[5000,6000,5500,7000]\n",
    "departB=[4500,5500,5800,6000,5200]\n",
    "print('mean sale of departA : ',np.median(departA))\n",
    "print('mean sale of departB : ',np.median(departB))\n"
   ]
  },
  {
   "cell_type": "markdown",
   "id": "fe13eaff",
   "metadata": {},
   "source": [
    "Q-4)"
   ]
  },
  {
   "cell_type": "code",
   "execution_count": 15,
   "id": "f91e8521",
   "metadata": {},
   "outputs": [
    {
     "name": "stdout",
     "output_type": "stream",
     "text": [
      "range of stock price 1.3\n"
     ]
    }
   ],
   "source": [
    "price=[25.5,24.8,26.1,25.3,24.9]\n",
    "print('range of stock price',np.round((max(price)-min(price)),2))\n"
   ]
  },
  {
   "cell_type": "markdown",
   "id": "84f7a430",
   "metadata": {},
   "source": [
    "Q-5)"
   ]
  },
  {
   "cell_type": "code",
   "execution_count": 19,
   "id": "633d6b33",
   "metadata": {},
   "outputs": [
    {
     "data": {
      "text/plain": [
       "Ttest_indResult(statistic=1.4312528946642733, pvalue=0.19023970239078333)"
      ]
     },
     "execution_count": 19,
     "metadata": {},
     "output_type": "execute_result"
    }
   ],
   "source": [
    "import statistics\n",
    "from scipy import stats\n",
    "\n",
    "groupA=[85,90,92,88,91]\n",
    "groupB=[82,88,90,86,87]\n",
    "\n",
    "stats.ttest_ind(groupA, groupB)"
   ]
  },
  {
   "cell_type": "markdown",
   "id": "2d99492f",
   "metadata": {},
   "source": [
    "Since p-value is greater than 0.05 (5% significance level), so we fail to reject null. Hence both groups have equal mean which means no significant difference in teaching methods"
   ]
  },
  {
   "cell_type": "markdown",
   "id": "cfe4e586",
   "metadata": {},
   "source": [
    "Q-6)"
   ]
  },
  {
   "cell_type": "code",
   "execution_count": 22,
   "id": "c8ae3fb8",
   "metadata": {},
   "outputs": [
    {
     "name": "stdout",
     "output_type": "stream",
     "text": [
      "0.8757511375750133\n"
     ]
    }
   ],
   "source": [
    "advt=[10,15,12,8,14]\n",
    "sale=[25,30,28,20,26]\n",
    "from scipy import stats\n",
    "corr,_=stats.pearsonr(advt,sale)\n",
    "print(corr)"
   ]
  },
  {
   "cell_type": "markdown",
   "id": "ca092412",
   "metadata": {},
   "source": [
    "87.5% correlation"
   ]
  },
  {
   "cell_type": "markdown",
   "id": "2eaef8c0",
   "metadata": {},
   "source": [
    "Q-7) "
   ]
  },
  {
   "cell_type": "code",
   "execution_count": 24,
   "id": "97a586eb",
   "metadata": {},
   "outputs": [
    {
     "data": {
      "text/plain": [
       "7.953949089757174"
      ]
     },
     "execution_count": 24,
     "metadata": {},
     "output_type": "execute_result"
    }
   ],
   "source": [
    "height=[160,170,165,155,175,180,170]\n",
    "import numpy as np\n",
    "np.std(height)"
   ]
  },
  {
   "cell_type": "markdown",
   "id": "fb31bea7",
   "metadata": {},
   "source": [
    "Q-8) "
   ]
  },
  {
   "cell_type": "code",
   "execution_count": 38,
   "id": "50574f01",
   "metadata": {},
   "outputs": [
    {
     "name": "stdout",
     "output_type": "stream",
     "text": [
      "intercept : 8.595744680851062\n",
      "coefficent : -0.4680851063829787\n"
     ]
    }
   ],
   "source": [
    "tenure=np.array([2, 3, 5, 4, 6, 2, 4]).reshape(-1, 1)\n",
    "satisfaction=np.array([7, 8, 6, 9, 5, 7, 6])\n",
    "from sklearn.linear_model import LinearRegression\n",
    "reg=LinearRegression()\n",
    "\n",
    "reg.fit(tenure,satisfaction)\n",
    "\n",
    "print('intercept :',reg.intercept_)\n",
    "print('coefficent :',reg.coef_[0])\n",
    "\n"
   ]
  },
  {
   "cell_type": "code",
   "execution_count": 39,
   "id": "8023ee01",
   "metadata": {},
   "outputs": [
    {
     "name": "stdout",
     "output_type": "stream",
     "text": [
      "[7.19148936 6.72340426 5.78723404]\n"
     ]
    }
   ],
   "source": [
    "# dummy data for prediction\n",
    "new_tenure = np.array([3, 4, 6]).reshape(-1, 1)\n",
    "\n",
    "predicted_satisfaction = reg.predict(new_tenure)\n",
    "print(predicted_satisfaction)"
   ]
  },
  {
   "cell_type": "code",
   "execution_count": 36,
   "id": "fbc7a570",
   "metadata": {},
   "outputs": [
    {
     "name": "stdout",
     "output_type": "stream",
     "text": [
      "For tenure 3, predicted satisfaction is 7.191489361702127\n",
      "For tenure 4, predicted satisfaction is 6.7234042553191475\n",
      "For tenure 6, predicted satisfaction is 5.787234042553191\n"
     ]
    }
   ],
   "source": [
    "for i in range(len(new_tenure)):\n",
    "    print(f\"For tenure {new_tenure[i][0]}, predicted satisfaction is {predicted_satisfaction[i]}\")"
   ]
  },
  {
   "cell_type": "markdown",
   "id": "741f71b9",
   "metadata": {},
   "source": [
    "Q-9)"
   ]
  },
  {
   "cell_type": "code",
   "execution_count": 41,
   "id": "1d23861a",
   "metadata": {},
   "outputs": [
    {
     "name": "stdout",
     "output_type": "stream",
     "text": [
      "f_statistics: 16.0\n",
      "p_value: 0.003949772803445326\n"
     ]
    }
   ],
   "source": [
    "#ANOVA\n",
    "\n",
    "medA=[10,12,14,11,13]\n",
    "medB=[15,17,16,14,18]\n",
    "from scipy.stats import f_oneway\n",
    "f_statistics,p_value=f_oneway(medA,medB)\n",
    "print('f_statistics:',f_statistics)\n",
    "print('p_value:',p_value)"
   ]
  },
  {
   "cell_type": "markdown",
   "id": "5275eb86",
   "metadata": {},
   "source": [
    "since p_value<0.05 significance level, so we reject null hypothesis, which means there is significant difference in mean recovery time"
   ]
  },
  {
   "cell_type": "markdown",
   "id": "ef908c9b",
   "metadata": {},
   "source": [
    "Q-10)"
   ]
  },
  {
   "cell_type": "code",
   "execution_count": 42,
   "id": "ab31f30b",
   "metadata": {},
   "outputs": [
    {
     "data": {
      "text/plain": [
       "8.75"
      ]
     },
     "execution_count": 42,
     "metadata": {},
     "output_type": "execute_result"
    }
   ],
   "source": [
    "ratings=np.array([8,9,7,6,8,10,9,8,7,8])\n",
    "np.percentile(ratings,75)\n"
   ]
  },
  {
   "cell_type": "markdown",
   "id": "c980f551",
   "metadata": {},
   "source": [
    "Q-11) "
   ]
  },
  {
   "cell_type": "code",
   "execution_count": 45,
   "id": "6e47e412",
   "metadata": {},
   "outputs": [
    {
     "name": "stdout",
     "output_type": "stream",
     "text": [
      "t_statistics: 1.5126584522688367\n",
      "p_value: 0.19077595151110102\n"
     ]
    }
   ],
   "source": [
    "weight=[10.2,9.8,10.0,10.5,10.3,10.1]\n",
    "from scipy import stats\n",
    "t_statistics,p_value=stats.ttest_1samp(weight,10)\n",
    "print('t_statistics:',t_statistics)\n",
    "print('p_value:',p_value)"
   ]
  },
  {
   "cell_type": "markdown",
   "id": "8fd59285",
   "metadata": {},
   "source": [
    "since p_value > 0.05 we failed to reject null. which means mean weight is equal to 10gm "
   ]
  },
  {
   "cell_type": "markdown",
   "id": "50cc3163",
   "metadata": {},
   "source": [
    "Q-12)"
   ]
  },
  {
   "cell_type": "code",
   "execution_count": 51,
   "id": "75c0adcb",
   "metadata": {},
   "outputs": [
    {
     "name": "stdout",
     "output_type": "stream",
     "text": [
      "Chi-square test statistic: 6.110658166925435\n",
      "P-value: 0.19103526314060293\n",
      "Degrees of freedom: 4\n"
     ]
    }
   ],
   "source": [
    "import numpy as np\n",
    "from scipy.stats import chi2_contingency\n",
    "\n",
    "designA = [100, 120, 110, 90, 95]\n",
    "designB = [80, 85, 90, 95, 100]\n",
    "\n",
    "observed = np.array([designA, designB])\n",
    "\n",
    "\n",
    "chi2, p, df, _ = chi2_contingency(observed)\n",
    "\n",
    "print(f\"Chi-square test statistic: {chi2}\")\n",
    "print(f\"P-value: {p}\")\n",
    "print(f\"Degrees of freedom: {df}\")\n",
    "\n",
    "\n"
   ]
  },
  {
   "cell_type": "markdown",
   "id": "e8e49fcf",
   "metadata": {},
   "source": [
    "Since p-value>0.05, we failed to reject null.Hence there is no significant difference in click-through rates between design A and design B."
   ]
  },
  {
   "cell_type": "markdown",
   "id": "f4aa8540",
   "metadata": {},
   "source": [
    "Q-13)"
   ]
  },
  {
   "cell_type": "code",
   "execution_count": 54,
   "id": "a6c54cb8",
   "metadata": {},
   "outputs": [
    {
     "name": "stdout",
     "output_type": "stream",
     "text": [
      "95% Confidence Interval: (6.92063136036517, 8.67936863963483)\n"
     ]
    }
   ],
   "source": [
    "import numpy as np\n",
    "from scipy import stats\n",
    "\n",
    "data = [7, 9, 6, 8, 10, 7, 7, 9, 7, 8]\n",
    "confidence_level = 0.95\n",
    "\n",
    "sample_mean = np.mean(data)\n",
    "standard_error = stats.sem(data)\n",
    "critical_value = stats.t.ppf((1 + confidence_level) / 2, len(data) - 1)\n",
    "\n",
    "lower_bound = sample_mean - critical_value * standard_error\n",
    "upper_bound = sample_mean + critical_value * standard_error\n",
    "\n",
    "confidence_interval = (lower_bound, upper_bound)\n",
    "\n",
    "print(\"95% Confidence Interval:\",confidence_interval)\n"
   ]
  },
  {
   "cell_type": "markdown",
   "id": "4760f5f3",
   "metadata": {},
   "source": [
    "Q-14)"
   ]
  },
  {
   "cell_type": "code",
   "execution_count": 58,
   "id": "5af36cb5",
   "metadata": {},
   "outputs": [
    {
     "name": "stdout",
     "output_type": "stream",
     "text": [
      "intercept : -2.8999999999999986\n",
      "coefficent : 0.4999999999999999\n",
      "predicted_performance [ 6.6 10.6  6.1]\n",
      "For tenure 19, predicted satisfaction is 6.6\n",
      "For tenure 27, predicted satisfaction is 10.599999999999998\n",
      "For tenure 18, predicted satisfaction is 6.1\n"
     ]
    }
   ],
   "source": [
    "temp=np.array([20,22,23,19,21]).reshape(-1,1)\n",
    "performance=np.array([8,7,9,6,8])\n",
    "\n",
    "from sklearn.linear_model import LinearRegression\n",
    "reg=LinearRegression()\n",
    "\n",
    "reg.fit(temp,performance)\n",
    "\n",
    "print('intercept :',reg.intercept_)\n",
    "print('coefficent :',reg.coef_[0])\n",
    "\n",
    "# dummy data for prediction\n",
    "new_temp = np.array([19,27,18]).reshape(-1, 1)\n",
    "\n",
    "predicted_performance = reg.predict(new_temp)\n",
    "print('predicted_performance',predicted_performance)\n",
    "\n",
    "\n",
    "for i in range(len(new_temp)):\n",
    "    print(f\"For tenure {new_temp[i][0]}, predicted satisfaction is {predicted_performance[i]}\")\n",
    "\n",
    "\n",
    "\n"
   ]
  },
  {
   "cell_type": "markdown",
   "id": "698b3501",
   "metadata": {},
   "source": [
    "Q-15)"
   ]
  },
  {
   "cell_type": "code",
   "execution_count": 60,
   "id": "b3a9b3f6",
   "metadata": {},
   "outputs": [
    {
     "name": "stdout",
     "output_type": "stream",
     "text": [
      "statistic: 17.0\n",
      "p_value: 0.380836480306712\n"
     ]
    }
   ],
   "source": [
    "from scipy.stats import mannwhitneyu\n",
    "\n",
    "grpA = [4, 3, 5, 2, 4]\n",
    "grpB = [3, 2, 4, 3, 3]\n",
    "\n",
    "\n",
    "statistic, p_value = mannwhitneyu(grpA, grpB)\n",
    "print('statistic:',statistic)\n",
    "print('p_value:',p_value)"
   ]
  },
  {
   "cell_type": "markdown",
   "id": "1d667dc2",
   "metadata": {},
   "source": [
    "since p_value is greater than 0.05. we failed to reject null hypothesis.which shows there is no significant difference in median of two groups"
   ]
  },
  {
   "cell_type": "markdown",
   "id": "8de58f9d",
   "metadata": {},
   "source": [
    "Q-16)"
   ]
  },
  {
   "cell_type": "code",
   "execution_count": 63,
   "id": "2c87077a",
   "metadata": {},
   "outputs": [
    {
     "data": {
      "text/plain": [
       "22.5"
      ]
     },
     "execution_count": 63,
     "metadata": {},
     "output_type": "execute_result"
    }
   ],
   "source": [
    "data=[25,30,35,40,45,50,55,60,65,70]\n",
    "from scipy import stats\n",
    "stats.iqr(data)\n"
   ]
  },
  {
   "cell_type": "markdown",
   "id": "ebedcd3b",
   "metadata": {},
   "source": [
    "Q-17)"
   ]
  },
  {
   "cell_type": "code",
   "execution_count": 64,
   "id": "705114e8",
   "metadata": {},
   "outputs": [
    {
     "name": "stdout",
     "output_type": "stream",
     "text": [
      "statistic : 9.696947935368053\n",
      "p_value : 0.007840333026249539\n"
     ]
    }
   ],
   "source": [
    "import numpy as np\n",
    "from scipy.stats import kruskal\n",
    "\n",
    "algorithmA = [0.85, 0.80, 0.82, 0.87, 0.83]\n",
    "algorithmB = [0.78, 0.82, 0.84, 0.80, 0.79]\n",
    "algorithmC = [0.90, 0.88, 0.89, 0.86, 0.87]\n",
    "\n",
    "data = np.concatenate([algorithmA, algorithmB, algorithmC])\n",
    "\n",
    "statistic, p_value = kruskal(algorithmA, algorithmB, algorithmC)\n",
    "\n",
    "print('statistic :',statistic)\n",
    "print('p_value :',p_value)\n",
    "\n"
   ]
  },
  {
   "cell_type": "markdown",
   "id": "961d520f",
   "metadata": {},
   "source": [
    "Since p_value<0.05, we can reject null. means there is a signifucant difference in medians"
   ]
  },
  {
   "cell_type": "markdown",
   "id": "3fafab6a",
   "metadata": {},
   "source": [
    "Q-18)"
   ]
  },
  {
   "cell_type": "code",
   "execution_count": 68,
   "id": "2c1dbccf",
   "metadata": {},
   "outputs": [
    {
     "name": "stdout",
     "output_type": "stream",
     "text": [
      "intercept : 136.3719512195122\n",
      "coefficent : -3.506097560975611\n",
      "predicted_sale [69.75609756 41.70731707 73.26219512]\n",
      "For tenure 19, predicted_sale is 69.75609756097559\n",
      "For tenure 27, predicted_sale is 41.7073170731707\n",
      "For tenure 18, predicted_sale is 73.26219512195121\n"
     ]
    }
   ],
   "source": [
    "price=np.array([10,15,12,8,14]).reshape(-1,1)\n",
    "sale=np.array([100,80,90,110,95])\n",
    "\n",
    "\n",
    "from sklearn.linear_model import LinearRegression\n",
    "reg=LinearRegression()\n",
    "\n",
    "reg.fit(price,sale)\n",
    "\n",
    "print('intercept :',reg.intercept_)\n",
    "print('coefficent :',reg.coef_[0])\n",
    "\n",
    "# dummy data for prediction\n",
    "new_price = np.array([19,27,18]).reshape(-1, 1)\n",
    "\n",
    "predicted_sale = reg.predict(new_price)\n",
    "print('predicted_sale',predicted_sale)\n",
    "\n",
    "\n",
    "for i in range(len(new_price)):\n",
    "    print(f\"For tenure {new_price[i][0]}, predicted_sale is {predicted_sale[i]}\")\n",
    "\n"
   ]
  },
  {
   "cell_type": "markdown",
   "id": "8c7d6bf6",
   "metadata": {},
   "source": [
    "Q-19)"
   ]
  },
  {
   "cell_type": "code",
   "execution_count": 69,
   "id": "43aa8e34",
   "metadata": {},
   "outputs": [
    {
     "data": {
      "text/plain": [
       "0.30550504633038933"
      ]
     },
     "execution_count": 69,
     "metadata": {},
     "output_type": "execute_result"
    }
   ],
   "source": [
    "from scipy import stats\n",
    "satisfaction=[7,8,9,6,8,7,9,7,8,7]\n",
    "stats.sem(satisfaction)"
   ]
  },
  {
   "cell_type": "markdown",
   "id": "72823a44",
   "metadata": {},
   "source": [
    "Q-20)"
   ]
  },
  {
   "cell_type": "code",
   "execution_count": 73,
   "id": "5a3810ea",
   "metadata": {},
   "outputs": [
    {
     "name": "stdout",
     "output_type": "stream",
     "text": [
      "For new expenditure 18, predicted_sale is 32.94512195121951\n",
      "For new expenditure 22, predicted_sale is 37.55487804878049\n",
      "For new expenditure 16, predicted_sale is 30.640243902439025\n"
     ]
    }
   ],
   "source": [
    "expenditure=np.array([10,15,12,8,14]).reshape(-1, 1)\n",
    "sales=np.array([25,30,28,20,26])\n",
    "\n",
    "from sklearn.linear_model import LinearRegression\n",
    "\n",
    "model = LinearRegression()\n",
    "\n",
    "model.fit(expenditure, sales)\n",
    "\n",
    "new_expenditure = np.array([18, 22, 16]).reshape(-1, 1) \n",
    "\n",
    "\n",
    "predicted_sales = model.predict(new_expenditure)\n",
    "\n",
    "\n",
    "for i in range(len(new_expenditure)):\n",
    "    print(f\"For new expenditure {new_expenditure[i][0]}, predicted_sale is {predicted_sales[i]}\")\n"
   ]
  },
  {
   "cell_type": "code",
   "execution_count": null,
   "id": "53e03abd",
   "metadata": {},
   "outputs": [],
   "source": []
  }
 ],
 "metadata": {
  "kernelspec": {
   "display_name": "Python 3 (ipykernel)",
   "language": "python",
   "name": "python3"
  },
  "language_info": {
   "codemirror_mode": {
    "name": "ipython",
    "version": 3
   },
   "file_extension": ".py",
   "mimetype": "text/x-python",
   "name": "python",
   "nbconvert_exporter": "python",
   "pygments_lexer": "ipython3",
   "version": "3.10.12"
  }
 },
 "nbformat": 4,
 "nbformat_minor": 5
}
